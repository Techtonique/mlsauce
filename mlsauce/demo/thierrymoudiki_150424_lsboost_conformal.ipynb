{
  "nbformat": 4,
  "nbformat_minor": 0,
  "metadata": {
    "colab": {
      "provenance": []
    },
    "kernelspec": {
      "name": "python3",
      "display_name": "Python 3"
    },
    "language_info": {
      "name": "python"
    }
  },
  "cells": [
    {
      "cell_type": "markdown",
      "source": [
        "# mlsauce's `v0.12.0`"
      ],
      "metadata": {
        "id": "cZD8lvm0BzFY"
      }
    },
    {
      "cell_type": "code",
      "source": [],
      "metadata": {
        "id": "F_ItmgfjAIBS"
      },
      "execution_count": null,
      "outputs": []
    },
    {
      "cell_type": "code",
      "source": [
        "!pip install git+https://github.com/Techtonique/mlsauce.git --verbose # this is the preferred way"
      ],
      "metadata": {
        "id": "LBkn8TG1_F0c"
      },
      "execution_count": null,
      "outputs": []
    },
    {
      "cell_type": "code",
      "execution_count": 2,
      "metadata": {
        "colab": {
          "base_uri": "https://localhost:8080/"
        },
        "id": "AXo6abdc-7j7",
        "outputId": "b287b46f-a2cf-4d25-f36f-62f9411c3461"
      },
      "outputs": [
        {
          "output_type": "stream",
          "name": "stdout",
          "text": [
            "\n",
            "\n",
            "ridge -----\n",
            "\n",
            "\n",
            "{'activation': 'relu', 'backend': 'cpu', 'col_sample': 0.9, 'direct_link': 1, 'dropout': 0, 'kernel': None, 'learning_rate': 0.1, 'n_estimators': 100, 'n_hidden_features': 5, 'reg_lambda': 0.1, 'replications': None, 'row_sample': 0.9, 'seed': 123, 'solver': 'ridge', 'tolerance': 0.0001, 'type_pi': None, 'verbose': 1}\n"
          ]
        },
        {
          "output_type": "stream",
          "name": "stderr",
          "text": [
            "100%|██████████| 100/100 [00:04<00:00, 23.89it/s]\n"
          ]
        },
        {
          "output_type": "stream",
          "name": "stdout",
          "text": [
            "4.20000147819519\n"
          ]
        },
        {
          "output_type": "stream",
          "name": "stderr",
          "text": [
            "100%|██████████| 100/100 [00:03<00:00, 27.94it/s]\n"
          ]
        },
        {
          "output_type": "stream",
          "name": "stdout",
          "text": [
            "4.357612133026123\n",
            "splitconformal coverage 1: 0.9505813953488372\n",
            "{'activation': 'relu', 'backend': 'cpu', 'col_sample': 0.9, 'direct_link': 1, 'dropout': 0, 'kernel': None, 'learning_rate': 0.1, 'n_estimators': 100, 'n_hidden_features': 5, 'reg_lambda': 0.1, 'replications': 50, 'row_sample': 0.9, 'seed': 123, 'solver': 'ridge', 'tolerance': 0.0001, 'type_pi': 'bootstrap', 'verbose': 1}\n"
          ]
        },
        {
          "output_type": "stream",
          "name": "stderr",
          "text": [
            "100%|██████████| 100/100 [00:04<00:00, 22.02it/s]\n"
          ]
        },
        {
          "output_type": "stream",
          "name": "stdout",
          "text": [
            "4.560582876205444\n"
          ]
        },
        {
          "output_type": "stream",
          "name": "stderr",
          "text": [
            "100%|██████████| 100/100 [00:02<00:00, 44.89it/s]\n",
            "100%|██████████| 50/50 [00:00<00:00, 28606.63it/s]\n"
          ]
        },
        {
          "output_type": "stream",
          "name": "stdout",
          "text": [
            "2.8877038955688477\n",
            "splitconformal bootstrap coverage 1: 0.9590600775193798\n",
            "{'activation': 'relu', 'backend': 'cpu', 'col_sample': 0.9, 'direct_link': 1, 'dropout': 0, 'kernel': None, 'learning_rate': 0.1, 'n_estimators': 100, 'n_hidden_features': 5, 'reg_lambda': 0.1, 'replications': 50, 'row_sample': 0.9, 'seed': 123, 'solver': 'ridge', 'tolerance': 0.0001, 'type_pi': 'kde', 'verbose': 1}\n"
          ]
        },
        {
          "output_type": "stream",
          "name": "stderr",
          "text": [
            "100%|██████████| 100/100 [00:04<00:00, 20.70it/s]\n"
          ]
        },
        {
          "output_type": "stream",
          "name": "stdout",
          "text": [
            "4.869342803955078\n"
          ]
        },
        {
          "output_type": "stream",
          "name": "stderr",
          "text": [
            "100%|██████████| 100/100 [00:02<00:00, 34.91it/s]\n",
            "100%|██████████| 50/50 [00:00<00:00, 212.32it/s]\n"
          ]
        },
        {
          "output_type": "stream",
          "name": "stdout",
          "text": [
            "3.8961992263793945\n",
            "splitconformal kde coverage 1: 0.9626937984496124\n",
            "{'activation': 'relu', 'backend': 'cpu', 'col_sample': 0.9, 'direct_link': 1, 'dropout': 0, 'kernel': None, 'learning_rate': 0.1, 'n_estimators': 100, 'n_hidden_features': 5, 'reg_lambda': 0.1, 'replications': None, 'row_sample': 0.9, 'seed': 123, 'solver': 'ridge', 'tolerance': 0.0001, 'type_pi': None, 'verbose': 1}\n"
          ]
        },
        {
          "output_type": "stream",
          "name": "stderr",
          "text": [
            "100%|██████████| 100/100 [00:00<00:00, 260.57it/s]\n"
          ]
        },
        {
          "output_type": "stream",
          "name": "stdout",
          "text": [
            "0.41154003143310547\n"
          ]
        },
        {
          "output_type": "stream",
          "name": "stderr",
          "text": [
            "100%|██████████| 100/100 [00:00<00:00, 366.96it/s]\n"
          ]
        },
        {
          "output_type": "stream",
          "name": "stdout",
          "text": [
            "0.32917046546936035\n",
            "splitconformal coverage 2: 0.9550561797752809\n",
            "{'activation': 'relu', 'backend': 'cpu', 'col_sample': 0.9, 'direct_link': 1, 'dropout': 0, 'kernel': None, 'learning_rate': 0.1, 'n_estimators': 100, 'n_hidden_features': 5, 'reg_lambda': 0.1, 'replications': 50, 'row_sample': 0.9, 'seed': 123, 'solver': 'ridge', 'tolerance': 0.0001, 'type_pi': 'bootstrap', 'verbose': 1}\n"
          ]
        },
        {
          "output_type": "stream",
          "name": "stderr",
          "text": [
            "100%|██████████| 100/100 [00:00<00:00, 299.65it/s]\n"
          ]
        },
        {
          "output_type": "stream",
          "name": "stdout",
          "text": [
            "0.35674047470092773\n"
          ]
        },
        {
          "output_type": "stream",
          "name": "stderr",
          "text": [
            "100%|██████████| 100/100 [00:00<00:00, 252.19it/s]\n",
            "100%|██████████| 50/50 [00:00<00:00, 89507.13it/s]\n"
          ]
        },
        {
          "output_type": "stream",
          "name": "stdout",
          "text": [
            "0.4990723133087158\n",
            "splitconformal bootstrap coverage 2: 0.9662921348314607\n",
            "{'activation': 'relu', 'backend': 'cpu', 'col_sample': 0.9, 'direct_link': 1, 'dropout': 0, 'kernel': None, 'learning_rate': 0.1, 'n_estimators': 100, 'n_hidden_features': 5, 'reg_lambda': 0.1, 'replications': 50, 'row_sample': 0.9, 'seed': 123, 'solver': 'ridge', 'tolerance': 0.0001, 'type_pi': 'kde', 'verbose': 1}\n"
          ]
        },
        {
          "output_type": "stream",
          "name": "stderr",
          "text": [
            "100%|██████████| 100/100 [00:00<00:00, 199.36it/s]\n"
          ]
        },
        {
          "output_type": "stream",
          "name": "stdout",
          "text": [
            "0.5178115367889404\n"
          ]
        },
        {
          "output_type": "stream",
          "name": "stderr",
          "text": [
            "100%|██████████| 100/100 [00:00<00:00, 218.56it/s]\n",
            "100%|██████████| 50/50 [00:00<00:00, 238.12it/s]\n"
          ]
        },
        {
          "output_type": "stream",
          "name": "stdout",
          "text": [
            "0.7703864574432373\n",
            "splitconformal kde coverage 2: 0.9662921348314607\n",
            "\n",
            "\n",
            "lasso -----\n",
            "\n",
            "\n",
            "{'activation': 'relu', 'backend': 'cpu', 'col_sample': 0.9, 'direct_link': 1, 'dropout': 0, 'kernel': None, 'learning_rate': 0.1, 'n_estimators': 50, 'n_hidden_features': 5, 'reg_lambda': 0.1, 'replications': None, 'row_sample': 0.9, 'seed': 123, 'solver': 'lasso', 'tolerance': 0.0001, 'type_pi': None, 'verbose': 1}\n"
          ]
        },
        {
          "output_type": "stream",
          "name": "stderr",
          "text": [
            "100%|██████████| 50/50 [00:01<00:00, 39.21it/s]\n"
          ]
        },
        {
          "output_type": "stream",
          "name": "stdout",
          "text": [
            "1.3068976402282715\n"
          ]
        },
        {
          "output_type": "stream",
          "name": "stderr",
          "text": [
            "100%|██████████| 50/50 [00:00<00:00, 95.31it/s]\n"
          ]
        },
        {
          "output_type": "stream",
          "name": "stdout",
          "text": [
            "0.6802136898040771\n",
            "splitconformal coverage 3: 0.9510658914728682\n",
            "{'activation': 'relu', 'backend': 'cpu', 'col_sample': 0.9, 'direct_link': 1, 'dropout': 0, 'kernel': None, 'learning_rate': 0.1, 'n_estimators': 50, 'n_hidden_features': 5, 'reg_lambda': 0.1, 'replications': 50, 'row_sample': 0.9, 'seed': 123, 'solver': 'lasso', 'tolerance': 0.0001, 'type_pi': 'bootstrap', 'verbose': 1}\n"
          ]
        },
        {
          "output_type": "stream",
          "name": "stderr",
          "text": [
            "100%|██████████| 50/50 [00:00<00:00, 54.06it/s]\n"
          ]
        },
        {
          "output_type": "stream",
          "name": "stdout",
          "text": [
            "0.9406630992889404\n"
          ]
        },
        {
          "output_type": "stream",
          "name": "stderr",
          "text": [
            "100%|██████████| 50/50 [00:00<00:00, 102.88it/s]\n",
            "100%|██████████| 50/50 [00:00<00:00, 18774.86it/s]\n"
          ]
        },
        {
          "output_type": "stream",
          "name": "stdout",
          "text": [
            "0.6879117488861084\n",
            "splitconformal bootstrap coverage 3: 0.9605135658914729\n",
            "{'activation': 'relu', 'backend': 'cpu', 'col_sample': 0.9, 'direct_link': 1, 'dropout': 0, 'kernel': None, 'learning_rate': 0.1, 'n_estimators': 50, 'n_hidden_features': 5, 'reg_lambda': 0.1, 'replications': 50, 'row_sample': 0.9, 'seed': 123, 'solver': 'lasso', 'tolerance': 0.0001, 'type_pi': 'kde', 'verbose': 1}\n"
          ]
        },
        {
          "output_type": "stream",
          "name": "stderr",
          "text": [
            "100%|██████████| 50/50 [00:01<00:00, 31.35it/s]\n"
          ]
        },
        {
          "output_type": "stream",
          "name": "stdout",
          "text": [
            "1.624236822128296\n"
          ]
        },
        {
          "output_type": "stream",
          "name": "stderr",
          "text": [
            "100%|██████████| 50/50 [00:00<00:00, 54.72it/s]\n",
            "100%|██████████| 50/50 [00:00<00:00, 315.17it/s]\n"
          ]
        },
        {
          "output_type": "stream",
          "name": "stdout",
          "text": [
            "1.4067130088806152\n",
            "splitconformal kde coverage 3: 0.9631782945736435\n",
            "{'activation': 'relu', 'backend': 'cpu', 'col_sample': 0.9, 'direct_link': 1, 'dropout': 0, 'kernel': None, 'learning_rate': 0.1, 'n_estimators': 50, 'n_hidden_features': 5, 'reg_lambda': 0.002, 'replications': None, 'row_sample': 0.9, 'seed': 123, 'solver': 'lasso', 'tolerance': 0.0001, 'type_pi': None, 'verbose': 1}\n"
          ]
        },
        {
          "output_type": "stream",
          "name": "stderr",
          "text": [
            "100%|██████████| 50/50 [00:00<00:00, 131.96it/s]\n"
          ]
        },
        {
          "output_type": "stream",
          "name": "stdout",
          "text": [
            "0.3877689838409424\n"
          ]
        },
        {
          "output_type": "stream",
          "name": "stderr",
          "text": [
            "100%|██████████| 50/50 [00:00<00:00, 197.36it/s]\n"
          ]
        },
        {
          "output_type": "stream",
          "name": "stdout",
          "text": [
            "0.27906036376953125\n",
            "splitconformal coverage 4: 0.9550561797752809\n",
            "{'activation': 'relu', 'backend': 'cpu', 'col_sample': 0.9, 'direct_link': 1, 'dropout': 0.4, 'kernel': None, 'learning_rate': 0.1, 'n_estimators': 10, 'n_hidden_features': 5, 'reg_lambda': 0.003, 'replications': 50, 'row_sample': 0.9, 'seed': 123, 'solver': 'lasso', 'tolerance': 0.0001, 'type_pi': 'bootstrap', 'verbose': 1}\n"
          ]
        },
        {
          "output_type": "stream",
          "name": "stderr",
          "text": [
            "100%|██████████| 10/10 [00:00<00:00, 193.79it/s]\n"
          ]
        },
        {
          "output_type": "stream",
          "name": "stdout",
          "text": [
            "0.06406068801879883\n"
          ]
        },
        {
          "output_type": "stream",
          "name": "stderr",
          "text": [
            "100%|██████████| 10/10 [00:00<00:00, 172.80it/s]\n",
            "100%|██████████| 50/50 [00:00<00:00, 81190.55it/s]\n"
          ]
        },
        {
          "output_type": "stream",
          "name": "stdout",
          "text": [
            "0.10322904586791992\n",
            "splitconformal bootstrap coverage 4: 0.9662921348314607\n",
            "{'activation': 'relu', 'backend': 'cpu', 'col_sample': 0.9, 'direct_link': 1, 'dropout': 0.4, 'kernel': None, 'learning_rate': 0.1, 'n_estimators': 10, 'n_hidden_features': 5, 'reg_lambda': 0.001, 'replications': 50, 'row_sample': 0.9, 'seed': 123, 'solver': 'lasso', 'tolerance': 0.0001, 'type_pi': 'kde', 'verbose': 1}\n"
          ]
        },
        {
          "output_type": "stream",
          "name": "stderr",
          "text": [
            "100%|██████████| 10/10 [00:00<00:00, 306.63it/s]\n"
          ]
        },
        {
          "output_type": "stream",
          "name": "stdout",
          "text": [
            "0.05145859718322754\n"
          ]
        },
        {
          "output_type": "stream",
          "name": "stderr",
          "text": [
            "100%|██████████| 10/10 [00:00<00:00, 228.20it/s]\n",
            "100%|██████████| 50/50 [00:00<00:00, 1266.03it/s]"
          ]
        },
        {
          "output_type": "stream",
          "name": "stdout",
          "text": [
            "0.128190279006958\n",
            "splitconformal kde coverage 4: 0.9550561797752809\n"
          ]
        },
        {
          "output_type": "stream",
          "name": "stderr",
          "text": [
            "\n"
          ]
        }
      ],
      "source": [
        "import subprocess\n",
        "import sys\n",
        "import matplotlib.pyplot as plt\n",
        "import warnings\n",
        "\n",
        "import mlsauce as ms\n",
        "import numpy as np\n",
        "import matplotlib.pyplot as plt\n",
        "from sklearn.datasets import fetch_california_housing, load_diabetes\n",
        "from sklearn.model_selection import train_test_split, GridSearchCV, cross_val_score\n",
        "from time import time\n",
        "from os import chdir\n",
        "from sklearn import metrics\n",
        "\n",
        "# ridge\n",
        "\n",
        "print(\"\\n\")\n",
        "print(\"ridge -----\")\n",
        "print(\"\\n\")\n",
        "\n",
        "\n",
        "dataset = fetch_california_housing()\n",
        "X = dataset.data\n",
        "y = dataset.target\n",
        "# split data into training test and test set\n",
        "np.random.seed(15029)\n",
        "X_train, X_test, y_train, y_test = train_test_split(X, y,\n",
        "                                                    test_size=0.2)\n",
        "\n",
        "obj = ms.LSBoostRegressor(col_sample=0.9, row_sample=0.9)\n",
        "print(obj.get_params())\n",
        "start = time()\n",
        "obj.fit(X_train, y_train)\n",
        "print(time()-start)\n",
        "start = time()\n",
        "preds = obj.predict(X_test, return_pi=True, method=\"splitconformal\")\n",
        "print(time()-start)\n",
        "print(f\"splitconformal coverage 1: {np.mean((preds.upper >= y_test)*(preds.lower <= y_test))}\")\n",
        "\n",
        "\n",
        "obj = ms.LSBoostRegressor(col_sample=0.9, row_sample=0.9,\n",
        "                          replications=50,\n",
        "                          type_pi=\"bootstrap\")\n",
        "print(obj.get_params())\n",
        "start = time()\n",
        "obj.fit(X_train, y_train)\n",
        "print(time()-start)\n",
        "start = time()\n",
        "preds = obj.predict(X_test, return_pi=True,\n",
        "                    method=\"splitconformal\")\n",
        "print(time()-start)\n",
        "print(f\"splitconformal bootstrap coverage 1: {np.mean((preds.upper >= y_test)*(preds.lower <= y_test))}\")\n",
        "\n",
        "\n",
        "obj = ms.LSBoostRegressor(col_sample=0.9, row_sample=0.9,\n",
        "                          replications=50,\n",
        "                          type_pi=\"kde\")\n",
        "print(obj.get_params())\n",
        "start = time()\n",
        "obj.fit(X_train, y_train)\n",
        "print(time()-start)\n",
        "start = time()\n",
        "preds = obj.predict(X_test, return_pi=True,\n",
        "                    method=\"splitconformal\")\n",
        "print(time()-start)\n",
        "print(f\"splitconformal kde coverage 1: {np.mean((preds.upper >= y_test)*(preds.lower <= y_test))}\")\n",
        "\n",
        "\n",
        "dataset = load_diabetes()\n",
        "X = dataset.data\n",
        "y = dataset.target\n",
        "# split data into training test and test set\n",
        "np.random.seed(15029)\n",
        "X_train, X_test, y_train, y_test = train_test_split(X, y,\n",
        "                                                    test_size=0.2)\n",
        "\n",
        "obj = ms.LSBoostRegressor(col_sample=0.9, row_sample=0.9)\n",
        "print(obj.get_params())\n",
        "start = time()\n",
        "obj.fit(X_train, y_train)\n",
        "print(time()-start)\n",
        "start = time()\n",
        "preds = obj.predict(X_test, return_pi=True, method=\"splitconformal\")\n",
        "print(time()-start)\n",
        "print(f\"splitconformal coverage 2: {np.mean((preds.upper >= y_test)*(preds.lower <= y_test))}\")\n",
        "\n",
        "\n",
        "obj = ms.LSBoostRegressor(col_sample=0.9, row_sample=0.9,\n",
        "                          replications=50,\n",
        "                          type_pi=\"bootstrap\")\n",
        "print(obj.get_params())\n",
        "start = time()\n",
        "obj.fit(X_train, y_train)\n",
        "print(time()-start)\n",
        "start = time()\n",
        "preds = obj.predict(X_test, return_pi=True,\n",
        "                    method=\"splitconformal\")\n",
        "print(time()-start)\n",
        "print(f\"splitconformal bootstrap coverage 2: {np.mean((preds.upper >= y_test)*(preds.lower <= y_test))}\")\n",
        "\n",
        "\n",
        "obj = ms.LSBoostRegressor(col_sample=0.9, row_sample=0.9,\n",
        "                          replications=50,\n",
        "                          type_pi=\"kde\")\n",
        "print(obj.get_params())\n",
        "start = time()\n",
        "obj.fit(X_train, y_train)\n",
        "print(time()-start)\n",
        "start = time()\n",
        "preds = obj.predict(X_test, return_pi=True,\n",
        "                    method=\"splitconformal\")\n",
        "print(time()-start)\n",
        "print(f\"splitconformal kde coverage 2: {np.mean((preds.upper >= y_test)*(preds.lower <= y_test))}\")\n",
        "\n",
        "\n",
        "\n",
        "# lasso\n",
        "\n",
        "print(\"\\n\")\n",
        "print(\"lasso -----\")\n",
        "print(\"\\n\")\n",
        "\n",
        "\n",
        "dataset = fetch_california_housing()\n",
        "X = dataset.data\n",
        "y = dataset.target\n",
        "# split data into training test and test set\n",
        "np.random.seed(15029)\n",
        "X_train, X_test, y_train, y_test = train_test_split(X, y,\n",
        "                                                    test_size=0.2)\n",
        "\n",
        "obj = ms.LSBoostRegressor(n_estimators=50, solver=\"lasso\", col_sample=0.9, row_sample=0.9)\n",
        "print(obj.get_params())\n",
        "start = time()\n",
        "obj.fit(X_train, y_train)\n",
        "print(time()-start)\n",
        "start = time()\n",
        "preds = obj.predict(X_test, return_pi=True, method=\"splitconformal\")\n",
        "print(time()-start)\n",
        "print(f\"splitconformal coverage 3: {np.mean((preds.upper >= y_test)*(preds.lower <= y_test))}\")\n",
        "\n",
        "\n",
        "obj = ms.LSBoostRegressor(n_estimators=50, solver=\"lasso\", col_sample=0.9, row_sample=0.9,\n",
        "                          replications=50,\n",
        "                          type_pi=\"bootstrap\")\n",
        "print(obj.get_params())\n",
        "start = time()\n",
        "obj.fit(X_train, y_train)\n",
        "print(time()-start)\n",
        "start = time()\n",
        "preds = obj.predict(X_test, return_pi=True,\n",
        "                    method=\"splitconformal\")\n",
        "print(time()-start)\n",
        "print(f\"splitconformal bootstrap coverage 3: {np.mean((preds.upper >= y_test)*(preds.lower <= y_test))}\")\n",
        "\n",
        "\n",
        "obj = ms.LSBoostRegressor(n_estimators=50, solver=\"lasso\", col_sample=0.9, row_sample=0.9,\n",
        "                          replications=50,\n",
        "                          type_pi=\"kde\")\n",
        "print(obj.get_params())\n",
        "start = time()\n",
        "obj.fit(X_train, y_train)\n",
        "print(time()-start)\n",
        "start = time()\n",
        "preds = obj.predict(X_test, return_pi=True,\n",
        "                    method=\"splitconformal\")\n",
        "print(time()-start)\n",
        "print(f\"splitconformal kde coverage 3: {np.mean((preds.upper >= y_test)*(preds.lower <= y_test))}\")\n",
        "\n",
        "\n",
        "dataset = load_diabetes()\n",
        "X = dataset.data\n",
        "y = dataset.target\n",
        "# split data into training test and test set\n",
        "np.random.seed(15029)\n",
        "X_train, X_test, y_train, y_test = train_test_split(X, y,\n",
        "                                                    test_size=0.2)\n",
        "\n",
        "obj = ms.LSBoostRegressor(n_estimators=50, solver=\"lasso\", reg_lambda=0.002,\n",
        "                          col_sample=0.9, row_sample=0.9)\n",
        "print(obj.get_params())\n",
        "start = time()\n",
        "obj.fit(X_train, y_train)\n",
        "print(time()-start)\n",
        "start = time()\n",
        "preds = obj.predict(X_test, return_pi=True, method=\"splitconformal\")\n",
        "print(time()-start)\n",
        "print(f\"splitconformal coverage 4: {np.mean((preds.upper >= y_test)*(preds.lower <= y_test))}\")\n",
        "\n",
        "\n",
        "obj = ms.LSBoostRegressor(n_estimators=10, solver=\"lasso\", col_sample=0.9, row_sample=0.9,\n",
        "                          replications=50, reg_lambda=0.003, dropout=0.4,\n",
        "                          type_pi=\"bootstrap\")\n",
        "print(obj.get_params())\n",
        "start = time()\n",
        "obj.fit(X_train, y_train)\n",
        "print(time()-start)\n",
        "start = time()\n",
        "preds = obj.predict(X_test, return_pi=True,\n",
        "                    method=\"splitconformal\")\n",
        "print(time()-start)\n",
        "print(f\"splitconformal bootstrap coverage 4: {np.mean((preds.upper >= y_test)*(preds.lower <= y_test))}\")\n",
        "\n",
        "\n",
        "obj = ms.LSBoostRegressor(n_estimators=10, solver=\"lasso\", col_sample=0.9, row_sample=0.9,\n",
        "                          replications=50, reg_lambda=0.001, dropout=0.4,\n",
        "                          type_pi=\"kde\")\n",
        "print(obj.get_params())\n",
        "start = time()\n",
        "obj.fit(X_train, y_train)\n",
        "print(time()-start)\n",
        "start = time()\n",
        "preds = obj.predict(X_test, return_pi=True,\n",
        "                    method=\"splitconformal\")\n",
        "print(time()-start)\n",
        "print(f\"splitconformal kde coverage 4: {np.mean((preds.upper >= y_test)*(preds.lower <= y_test))}\")\n",
        "\n"
      ]
    },
    {
      "cell_type": "code",
      "source": [
        "warnings.filterwarnings('ignore')\n",
        "\n",
        "split_color = 'green'\n",
        "split_color2 = 'orange'\n",
        "local_color = 'gray'\n",
        "\n",
        "def plot_func(x,\n",
        "              y,\n",
        "              y_u=None,\n",
        "              y_l=None,\n",
        "              pred=None,\n",
        "              shade_color=\"\",\n",
        "              method_name=\"\",\n",
        "              title=\"\"):\n",
        "\n",
        "    fig = plt.figure()\n",
        "\n",
        "    plt.plot(x, y, 'k.', alpha=.3, markersize=10,\n",
        "             fillstyle='full', label=u'Test set observations')\n",
        "\n",
        "    if (y_u is not None) and (y_l is not None):\n",
        "        plt.fill(np.concatenate([x, x[::-1]]),\n",
        "                 np.concatenate([y_u, y_l[::-1]]),\n",
        "                 alpha=.3, fc=shade_color, ec='None',\n",
        "                 label = method_name + ' Prediction interval')\n",
        "\n",
        "    if pred is not None:\n",
        "        plt.plot(x, pred, 'k--', lw=2, alpha=0.9,\n",
        "                 label=u'Predicted value')\n",
        "\n",
        "    #plt.ylim([-2.5, 7])\n",
        "    plt.xlabel('$X$')\n",
        "    plt.ylabel('$Y$')\n",
        "    plt.legend(loc='upper right')\n",
        "    plt.title(title)\n",
        "\n",
        "    plt.show()"
      ],
      "metadata": {
        "id": "iheWu7wK_v4o"
      },
      "execution_count": 3,
      "outputs": []
    },
    {
      "cell_type": "code",
      "source": [
        "max_idx = 50\n",
        "plot_func(x = range(max_idx),\n",
        "          y = y_test[0:max_idx],\n",
        "          y_u = preds.upper[0:max_idx],\n",
        "          y_l = preds.lower[0:max_idx],\n",
        "          pred = preds.mean[0:max_idx],\n",
        "          shade_color=split_color2,\n",
        "          title = f\"LSBoostRegressor ({max_idx} first points in test set)\")"
      ],
      "metadata": {
        "colab": {
          "base_uri": "https://localhost:8080/",
          "height": 472
        },
        "id": "jNeo-uAD_-aX",
        "outputId": "9b25f0c7-ff04-42e6-ef4d-fff80ffff76c"
      },
      "execution_count": 6,
      "outputs": [
        {
          "output_type": "display_data",
          "data": {
            "text/plain": [
              "<Figure size 640x480 with 1 Axes>"
            ],
            "image/png": "[encoded data removed]"
          },
          "metadata": {}
        }
      ]
    }
  ]
}