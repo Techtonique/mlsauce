{
  "cells": [
    {
      "cell_type": "markdown",
      "metadata": {},
      "source": [
        "<a target=\"_blank\" href=\"https://colab.research.google.com/github/Techtonique/mlsauce/blob/master/mlsauce/demo/thierrymoudiki-2024-04-29-LSBoost.ipynb\">\n",
        "  <img src=\"https://colab.research.google.com/assets/colab-badge.svg\" alt=\"Open In Colab\"/>\n",
        "</a>"
      ]
    },
    {
      "cell_type": "markdown",
      "metadata": {
        "id": "Pl248t6f6f5d"
      },
      "source": [
        "# 0 - Install and import data"
      ]
    },
    {
      "cell_type": "code",
      "execution_count": 3,
      "metadata": {
        "id": "bXZHe50Fj_PO"
      },
      "outputs": [
        {
          "name": "stdout",
          "output_type": "stream",
          "text": [
            "Unexpected exception formatting exception. Falling back to standard exception\n"
          ]
        },
        {
          "name": "stderr",
          "output_type": "stream",
          "text": [
            "Traceback (most recent call last):\n",
            "  File \"/Users/t/Documents/Python_Packages/mlsauce/venv/lib/python3.11/site-packages/IPython/core/interactiveshell.py\", line 3577, in run_code\n",
            "  File \"/var/folders/cp/q8d6040n3m38d22z3hkk1zc40000gn/T/ipykernel_90871/1951787339.py\", line 1, in <module>\n",
            "    get_ipython().system('pip uninstall mlsauce --yes')\n",
            "  File \"/Users/t/Documents/Python_Packages/mlsauce/venv/lib/python3.11/site-packages/ipykernel/zmqshell.py\", line 657, in system_piped\n",
            "  File \"/Users/t/Documents/Python_Packages/mlsauce/venv/lib/python3.11/site-packages/IPython/utils/_process_posix.py\", line 125, in system\n",
            "ModuleNotFoundError: No module named 'pexpect'\n",
            "\n",
            "During handling of the above exception, another exception occurred:\n",
            "\n",
            "Traceback (most recent call last):\n",
            "  File \"/Users/t/Documents/Python_Packages/mlsauce/venv/lib/python3.11/site-packages/pygments/styles/__init__.py\", line 45, in get_style_by_name\n",
            "ModuleNotFoundError: No module named 'pygments.styles.default'\n",
            "\n",
            "During handling of the above exception, another exception occurred:\n",
            "\n",
            "Traceback (most recent call last):\n",
            "  File \"/Users/t/Documents/Python_Packages/mlsauce/venv/lib/python3.11/site-packages/IPython/core/interactiveshell.py\", line 2168, in showtraceback\n",
            "  File \"/Users/t/Documents/Python_Packages/mlsauce/venv/lib/python3.11/site-packages/IPython/core/ultratb.py\", line 1454, in structured_traceback\n",
            "  File \"/Users/t/Documents/Python_Packages/mlsauce/venv/lib/python3.11/site-packages/IPython/core/ultratb.py\", line 1345, in structured_traceback\n",
            "  File \"/Users/t/Documents/Python_Packages/mlsauce/venv/lib/python3.11/site-packages/IPython/core/ultratb.py\", line 1192, in structured_traceback\n",
            "  File \"/Users/t/Documents/Python_Packages/mlsauce/venv/lib/python3.11/site-packages/IPython/core/ultratb.py\", line 1082, in format_exception_as_a_whole\n",
            "  File \"/Users/t/Documents/Python_Packages/mlsauce/venv/lib/python3.11/site-packages/IPython/core/ultratb.py\", line 1133, in get_records\n",
            "  File \"/Users/t/Documents/Python_Packages/mlsauce/venv/lib/python3.11/site-packages/pygments/styles/__init__.py\", line 47, in get_style_by_name\n",
            "pygments.util.ClassNotFound: Could not find style module 'pygments.styles.default', though it should be builtin.\n"
          ]
        }
      ],
      "source": [
        "!pip uninstall mlsauce --yes"
      ]
    },
    {
      "cell_type": "code",
      "execution_count": null,
      "metadata": {
        "id": "08AdjK5xG-2y"
      },
      "outputs": [
        {
          "name": "stdout",
          "output_type": "stream",
          "text": [
            "Unexpected exception formatting exception. Falling back to standard exception\n"
          ]
        },
        {
          "name": "stderr",
          "output_type": "stream",
          "text": [
            "Traceback (most recent call last):\n",
            "  File \"/Users/t/Documents/Python_Packages/mlsauce/venv/lib/python3.11/site-packages/IPython/core/interactiveshell.py\", line 3577, in run_code\n",
            "  File \"/var/folders/cp/q8d6040n3m38d22z3hkk1zc40000gn/T/ipykernel_90871/4018504559.py\", line 2, in <module>\n",
            "    get_ipython().system('pip install ../.. --verbose --no-cache-dir --upgrade')\n",
            "  File \"/Users/t/Documents/Python_Packages/mlsauce/venv/lib/python3.11/site-packages/ipykernel/zmqshell.py\", line 657, in system_piped\n",
            "  File \"/Users/t/Documents/Python_Packages/mlsauce/venv/lib/python3.11/site-packages/IPython/utils/_process_posix.py\", line 125, in system\n",
            "ModuleNotFoundError: No module named 'pexpect'\n",
            "\n",
            "During handling of the above exception, another exception occurred:\n",
            "\n",
            "Traceback (most recent call last):\n",
            "  File \"/Users/t/Documents/Python_Packages/mlsauce/venv/lib/python3.11/site-packages/pygments/styles/__init__.py\", line 45, in get_style_by_name\n",
            "ModuleNotFoundError: No module named 'pygments.styles.default'\n",
            "\n",
            "During handling of the above exception, another exception occurred:\n",
            "\n",
            "Traceback (most recent call last):\n",
            "  File \"/Users/t/Documents/Python_Packages/mlsauce/venv/lib/python3.11/site-packages/IPython/core/interactiveshell.py\", line 2168, in showtraceback\n",
            "  File \"/Users/t/Documents/Python_Packages/mlsauce/venv/lib/python3.11/site-packages/IPython/core/ultratb.py\", line 1454, in structured_traceback\n",
            "  File \"/Users/t/Documents/Python_Packages/mlsauce/venv/lib/python3.11/site-packages/IPython/core/ultratb.py\", line 1345, in structured_traceback\n",
            "  File \"/Users/t/Documents/Python_Packages/mlsauce/venv/lib/python3.11/site-packages/IPython/core/ultratb.py\", line 1192, in structured_traceback\n",
            "  File \"/Users/t/Documents/Python_Packages/mlsauce/venv/lib/python3.11/site-packages/IPython/core/ultratb.py\", line 1082, in format_exception_as_a_whole\n",
            "  File \"/Users/t/Documents/Python_Packages/mlsauce/venv/lib/python3.11/site-packages/IPython/core/ultratb.py\", line 1133, in get_records\n",
            "  File \"/Users/t/Documents/Python_Packages/mlsauce/venv/lib/python3.11/site-packages/pygments/styles/__init__.py\", line 47, in get_style_by_name\n",
            "pygments.util.ClassNotFound: Could not find style module 'pygments.styles.default', though it should be builtin.\n"
          ]
        }
      ],
      "source": [
        "#!pip install git+https://github.com/Techtonique/mlsauce.git --verbose\n",
        "!pip install ../.. --verbose --no-cache-dir --upgrade"
      ]
    },
    {
      "cell_type": "code",
      "execution_count": null,
      "metadata": {
        "id": "FOAW0lnroEcw"
      },
      "outputs": [],
      "source": [
        "import mlsauce as ms\n",
        "from sklearn.datasets import fetch_california_housing\n",
        "from sklearn.model_selection import train_test_split\n",
        "from time import time\n",
        "import matplotlib.pyplot as plt\n",
        "\n",
        "\n",
        "dataset = fetch_california_housing()\n",
        "X = dataset.data\n",
        "y = dataset.target\n",
        "# split data into training test and test set\n",
        "X_train, X_test, y_train, y_test = train_test_split(X, y,\n",
        "                                                    test_size=0.2)"
      ]
    },
    {
      "cell_type": "markdown",
      "metadata": {
        "id": "ulpbA3yv6ZrH"
      },
      "source": [
        "# 1 - `solver = 'ridge'` and polynomial degree >= 2"
      ]
    },
    {
      "cell_type": "code",
      "execution_count": null,
      "metadata": {
        "colab": {
          "base_uri": "https://localhost:8080/"
        },
        "id": "Oxu_P4g-s6iz",
        "outputId": "9aa75df0-a891-46c2-dacd-4c9ab68b1c97"
      },
      "outputs": [],
      "source": [
        "obj1 = ms.LSBoostRegressor()\n",
        "print(obj1.get_params())\n",
        "start = time()\n",
        "obj1.fit(X_train, y_train)\n",
        "print(f\"\\n Elapsed: {time()-start}\")\n",
        "print(f\"loss: {obj1.obj['loss']}\")\n",
        "\n",
        "obj2 = ms.LSBoostRegressor(n_clusters=2, learning_rate=0.2)\n",
        "print(obj2.get_params())\n",
        "start = time()\n",
        "obj2.fit(X_train, y_train)\n",
        "print(f\"\\n Elapsed: {time()-start}\")\n",
        "print(f\"loss: {obj2.obj['loss']}\")\n",
        "\n",
        "obj3 = ms.LSBoostRegressor(n_clusters=2, degree=2)\n",
        "print(obj3.get_params())\n",
        "start = time()\n",
        "obj3.fit(X_train, y_train)\n",
        "print(f\"\\n Elapsed: {time()-start}\")\n",
        "print(f\"loss: {obj3.obj['loss']}\")\n",
        "\n",
        "obj4 = ms.LSBoostRegressor(n_clusters=3, degree=3)\n",
        "print(obj4.get_params())\n",
        "start = time()\n",
        "obj4.fit(X_train, y_train)\n",
        "print(f\"\\n Elapsed: {time()-start}\")\n",
        "print(f\"loss: {obj4.obj['loss']}\")\n"
      ]
    },
    {
      "cell_type": "code",
      "execution_count": null,
      "metadata": {
        "colab": {
          "base_uri": "https://localhost:8080/",
          "height": 430
        },
        "id": "WXGFaInFuoXI",
        "outputId": "e2a4493b-b54e-447e-eb74-33cde0ab9e27"
      },
      "outputs": [],
      "source": [
        "# Plotting the lines with labels\n",
        "plt.plot(obj1.obj['loss'], label='Loss - learning_rate=0.1')\n",
        "plt.plot(obj2.obj['loss'], label='Loss - n_clusters=2, learning_rate=0.2')\n",
        "plt.plot(obj3.obj['loss'], label='Loss - n_clusters=2, degree=2')\n",
        "plt.plot(obj4.obj['loss'], label='Loss - n_clusters=3, degree=3')\n",
        "\n",
        "# Displaying the legend\n",
        "plt.legend()\n",
        "\n",
        "# Show the plot\n",
        "plt.show()\n"
      ]
    },
    {
      "cell_type": "markdown",
      "metadata": {
        "id": "BFSdYDFF6kYn"
      },
      "source": [
        "# 2 - `solver = 'elasticnet'`"
      ]
    },
    {
      "cell_type": "code",
      "execution_count": null,
      "metadata": {
        "colab": {
          "base_uri": "https://localhost:8080/",
          "height": 896
        },
        "id": "lQHWtsMW6p5t",
        "outputId": "0151e467-4db1-40a2-feda-d9b8dac492d0"
      },
      "outputs": [],
      "source": [
        "obj1 = ms.LSBoostRegressor(solver=\"enet\", n_estimators=25)\n",
        "print(obj1.get_params())\n",
        "start = time()\n",
        "obj1.fit(X_train, y_train)\n",
        "print(f\"\\n Elapsed: {time()-start}\")\n",
        "print(f\"loss: {obj1.obj['loss']}\")\n",
        "\n",
        "obj2 = ms.LSBoostRegressor(n_clusters=2, learning_rate=0.2, solver=\"enet\",\n",
        "                           n_estimators=25)\n",
        "print(obj2.get_params())\n",
        "start = time()\n",
        "obj2.fit(X_train, y_train)\n",
        "print(f\"\\n Elapsed: {time()-start}\")\n",
        "print(f\"loss: {obj2.obj['loss']}\")\n",
        "\n",
        "obj3 = ms.LSBoostRegressor(n_clusters=2, learning_rate=0.2, solver=\"enet\",\n",
        "                           n_estimators=25, alpha=0)\n",
        "print(obj3.get_params())\n",
        "start = time()\n",
        "obj3.fit(X_train, y_train)\n",
        "print(f\"\\n Elapsed: {time()-start}\")\n",
        "print(f\"loss: {obj3.obj['loss']}\")\n",
        "\n",
        "obj4 = ms.LSBoostRegressor(n_clusters=2, learning_rate=0.2, solver=\"enet\",\n",
        "                           n_estimators=25, alpha=1)\n",
        "print(obj4.get_params())\n",
        "start = time()\n",
        "obj4.fit(X_train, y_train)\n",
        "print(f\"\\n Elapsed: {time()-start}\")\n",
        "print(f\"loss: {obj4.obj['loss']}\")\n",
        "\n",
        "obj5 = ms.LSBoostRegressor(n_clusters=2, learning_rate=0.2, solver=\"enet\",\n",
        "                           n_estimators=25, alpha=1, degree=2)\n",
        "print(obj5.get_params())\n",
        "start = time()\n",
        "obj5.fit(X_train, y_train)\n",
        "print(f\"\\n Elapsed: {time()-start}\")\n",
        "print(f\"loss: {obj5.obj['loss']}\")\n",
        "\n",
        "\n",
        "# Plotting the lines with labels\n",
        "plt.plot(obj1.obj['loss'], label='Loss - learning_rate=0.1, alpha=0.5 (L1+L2)')\n",
        "plt.plot(obj2.obj['loss'], label='Loss - n_clusters=2, learning_rate=0.2, alpha=0.5 (L1+L2)')\n",
        "plt.plot(obj3.obj['loss'], label='Loss - learning_rate=0.1, alpha=0 (L2 pen.)')\n",
        "plt.plot(obj4.obj['loss'], label='Loss - n_clusters=2, learning_rate=0.2, alpha=1 (L1 pen.)')\n",
        "plt.plot(obj5.obj['loss'], label='Loss - n_clusters=2, learning_rate=0.2, alpha=1, degree=2')\n",
        "\n",
        "# Displaying the legend\n",
        "plt.legend()\n",
        "\n",
        "# Show the plot\n",
        "plt.show()\n"
      ]
    },
    {
      "cell_type": "code",
      "execution_count": null,
      "metadata": {},
      "outputs": [],
      "source": []
    },
    {
      "cell_type": "markdown",
      "metadata": {},
      "source": [
        "# 3 - `solver = 'elasticnet'`; Gaussian weights"
      ]
    },
    {
      "cell_type": "code",
      "execution_count": null,
      "metadata": {},
      "outputs": [],
      "source": [
        "obj1 = ms.LSBoostRegressor(solver=\"enet\", n_estimators=25, \n",
        "                           weights_distr=\"gaussian\")\n",
        "print(obj1.get_params())\n",
        "start = time()\n",
        "obj1.fit(X_train, y_train)\n",
        "print(f\"\\n Elapsed: {time()-start}\")\n",
        "print(f\"loss: {obj1.obj['loss']}\")\n",
        "\n",
        "obj2 = ms.LSBoostRegressor(n_clusters=2, \n",
        "                           learning_rate=0.2, \n",
        "                           solver=\"enet\",\n",
        "                           n_estimators=25, \n",
        "                           weights_distr=\"gaussian\")\n",
        "print(obj2.get_params())\n",
        "start = time()\n",
        "obj2.fit(X_train, y_train)\n",
        "print(f\"\\n Elapsed: {time()-start}\")\n",
        "print(f\"loss: {obj2.obj['loss']}\")\n",
        "\n",
        "obj3 = ms.LSBoostRegressor(n_clusters=2, \n",
        "                           learning_rate=0.2, \n",
        "                           solver=\"enet\",\n",
        "                           n_estimators=25, alpha=0, \n",
        "                           weights_distr=\"gaussian\")\n",
        "print(obj3.get_params())\n",
        "start = time()\n",
        "obj3.fit(X_train, y_train)\n",
        "print(f\"\\n Elapsed: {time()-start}\")\n",
        "print(f\"loss: {obj3.obj['loss']}\")\n",
        "\n",
        "obj4 = ms.LSBoostRegressor(n_clusters=2, \n",
        "                           learning_rate=0.2, \n",
        "                           solver=\"enet\",\n",
        "                           n_estimators=25, alpha=1, \n",
        "                           weights_distr=\"gaussian\")\n",
        "print(obj4.get_params())\n",
        "start = time()\n",
        "obj4.fit(X_train, y_train)\n",
        "print(f\"\\n Elapsed: {time()-start}\")\n",
        "print(f\"loss: {obj4.obj['loss']}\")\n",
        "\n",
        "obj5 = ms.LSBoostRegressor(n_clusters=2, \n",
        "                           learning_rate=0.2, \n",
        "                           solver=\"enet\",\n",
        "                           n_estimators=25, \n",
        "                           alpha=1, degree=2, \n",
        "                           weights_distr=\"gaussian\")\n",
        "print(obj5.get_params())\n",
        "start = time()\n",
        "obj5.fit(X_train, y_train)\n",
        "print(f\"\\n Elapsed: {time()-start}\")\n",
        "print(f\"loss: {obj5.obj['loss']}\")\n",
        "\n",
        "\n",
        "# Plotting the lines with labels\n",
        "plt.plot(obj1.obj['loss'], label='learning_rate=0.1, alpha=0.5 (L1+L2), Gaussian weights')\n",
        "plt.plot(obj2.obj['loss'], label='n_clusters=2, learning_rate=0.2, alpha=0.5 (L1+L2), Gaussian weights')\n",
        "plt.plot(obj3.obj['loss'], label='learning_rate=0.1, alpha=0 (L2 pen.), Gaussian weights')\n",
        "plt.plot(obj4.obj['loss'], label='n_clusters=2, learning_rate=0.2, alpha=1 (L1 pen.), Gaussian weights')\n",
        "plt.plot(obj5.obj['loss'], label='n_clusters=2, learning_rate=0.2, alpha=1, degree=2, Gaussian weights')\n",
        "\n",
        "# Displaying the legend\n",
        "plt.legend()\n",
        "\n",
        "# Show the plot\n",
        "plt.show()\n"
      ]
    }
  ],
  "metadata": {
    "colab": {
      "provenance": []
    },
    "kernelspec": {
      "display_name": "Python 3",
      "name": "python3"
    },
    "language_info": {
      "codemirror_mode": {
        "name": "ipython",
        "version": 3
      },
      "file_extension": ".py",
      "mimetype": "text/x-python",
      "name": "python",
      "nbconvert_exporter": "python",
      "pygments_lexer": "ipython3",
      "version": "3.11.8"
    }
  },
  "nbformat": 4,
  "nbformat_minor": 0
}
