{
  "nbformat": 4,
  "nbformat_minor": 0,
  "metadata": {
    "colab": {
      "name": "12112020_lsboost_loss.ipynb",
      "provenance": [],
      "collapsed_sections": []
    },
    "kernelspec": {
      "name": "python3",
      "display_name": "Python 3"
    }
  },
  "cells": [
    {
      "cell_type": "markdown",
      "metadata": {
        "id": "tbe8T849KyKg"
      },
      "source": [
        "**Opening up LSBoost's engine hood:**\n",
        "\n",
        "On a classification (`breast_cancer`) dataset. With ridge regression base learners on randomized networks. Plus, sensitivity to lambda (regularization parameter), learning rate, dropout and early stopping"
      ]
    },
    {
      "cell_type": "markdown",
      "metadata": {
        "id": "6EuPEgxNgJBC"
      },
      "source": [
        "# 0 - dataset and import packages"
      ]
    },
    {
      "cell_type": "code",
      "metadata": {
        "id": "P7emJVVT394C"
      },
      "source": [
        "!pip install git+https://github.com/Techtonique/mlsauce.git # where mlsauce lives"
      ],
      "execution_count": null,
      "outputs": []
    },
    {
      "cell_type": "code",
      "metadata": {
        "id": "rEhxXfa14WJd"
      },
      "source": [
        "import matplotlib.pyplot as plt\n",
        "import numpy as np \n",
        "from sklearn.datasets import load_digits, load_breast_cancer, load_wine, load_iris\n",
        "from sklearn.model_selection import train_test_split, GridSearchCV, cross_val_score\n",
        "from time import time\n",
        "from os import chdir\n",
        "from sklearn import metrics\n",
        "from tqdm import tqdm\n",
        "from time import time\n",
        "\n",
        "import mlsauce as ms # contains LSBoost\n"
      ],
      "execution_count": 142,
      "outputs": []
    },
    {
      "cell_type": "markdown",
      "metadata": {
        "id": "HSHDHSOjkRFW"
      },
      "source": [
        "# 1 - Classification on breast cancer data"
      ]
    },
    {
      "cell_type": "markdown",
      "metadata": {
        "id": "cJRgAYzx0cks"
      },
      "source": [
        "## ridge without early stopping (tolerance=0) and default parameters"
      ]
    },
    {
      "cell_type": "code",
      "metadata": {
        "colab": {
          "base_uri": "https://localhost:8080/",
          "height": 507
        },
        "id": "Z9xpGGLpRMuX",
        "outputId": "5aa18b71-55f6-434d-88d1-7bcc1b0c8223"
      },
      "source": [
        "#ridge\n",
        "\n",
        "print(\"\\n\")\n",
        "print(\"ridge -----\")\n",
        "\n",
        "# data 1\n",
        "breast_cancer = load_breast_cancer()\n",
        "X = breast_cancer.data\n",
        "y = breast_cancer.target\n",
        "# split data into training test and test set\n",
        "np.random.seed(1509)\n",
        "X_train, X_test, y_train, y_test = train_test_split(X, y, \n",
        "                                                    test_size=0.2)\n",
        "\n",
        "obj = ms.LSBoostClassifier(tolerance=0) # basically, loop until max iter = M\n",
        "\n",
        "start = time()\n",
        "obj.fit(X_train, y_train)\n",
        "print(f\"\\n\")\n",
        "print(f\"training time elapsed: {time()-start}\")\n",
        "\n",
        "start = time()\n",
        "print(f\"accuracy: {obj.score(X_test, y_test)}\")\n",
        "print(f\"scoring time elapsed: {time()-start}\")\n",
        "\n",
        "print(f\"effective number of iterations {len(obj.obj['loss'])}\")\n",
        "\n",
        "fig = plt.figure()\n",
        "plt.plot(np.log(obj.obj['loss']))\n",
        "fig.suptitle('L2 norm of pseudoresponse \\n tolerance=0, learning_rate=0.1', fontsize=20)\n",
        "plt.xlabel('number of boosting iterations', fontsize=18)\n",
        "plt.ylabel('log loss', fontsize=16)"
      ],
      "execution_count": 143,
      "outputs": [
        {
          "output_type": "stream",
          "text": [
            "100%|██████████| 100/100 [00:00<00:00, 633.33it/s]"
          ],
          "name": "stderr"
        },
        {
          "output_type": "stream",
          "text": [
            "\n",
            "\n",
            "ridge -----\n",
            "\n",
            "\n",
            "training time elapsed: 0.16161751747131348\n",
            "accuracy: 0.956140350877193\n",
            "scoring time elapsed: 0.01264500617980957\n",
            "effective number of iterations 100\n"
          ],
          "name": "stdout"
        },
        {
          "output_type": "stream",
          "text": [
            "\n"
          ],
          "name": "stderr"
        },
        {
          "output_type": "execute_result",
          "data": {
            "text/plain": [
              "Text(0, 0.5, 'log loss')"
            ]
          },
          "metadata": {
            "tags": []
          },
          "execution_count": 143
        },
        {
          "output_type": "display_data",
          "data": {
            "image/png": "[encoded data removed]",
            "text/plain": [
              "<Figure size 432x288 with 1 Axes>"
            ]
          },
          "metadata": {
            "tags": [],
            "needs_background": "light"
          }
        }
      ]
    },
    {
      "cell_type": "code",
      "metadata": {
        "colab": {
          "base_uri": "https://localhost:8080/",
          "height": 455
        },
        "id": "Ma8X-ts4apf1",
        "outputId": "01e717aa-c1b1-4d2e-c3c5-5303855c08fe"
      },
      "source": [
        "obj = ms.LSBoostClassifier(tolerance=0, learning_rate=0.7)\n",
        "\n",
        "start = time()\n",
        "obj.fit(X_train, y_train)\n",
        "print(f\"\\n\")\n",
        "print(f\"training time elapsed: {time()-start}\")\n",
        "\n",
        "start = time()\n",
        "print(f\"accuracy: {obj.score(X_test, y_test)}\")\n",
        "print(f\"scoring time elapsed: {time()-start}\")\n",
        "\n",
        "print(f\"effective number of iterations {len(obj.obj['loss'])}\")\n",
        "\n",
        "# plt.ylim([1.6, 2.7])\n",
        "# plt.xlim([0, 100])\n",
        "fig = plt.figure()\n",
        "plt.plot(np.log(obj.obj['loss']))\n",
        "fig.suptitle('L2 norm of pseudoresponse \\n tolerance=0, learning_rate=0.7', fontsize=20)\n",
        "plt.xlabel('number of boosting iterations', fontsize=18)\n",
        "plt.ylabel('log loss', fontsize=16)"
      ],
      "execution_count": 144,
      "outputs": [
        {
          "output_type": "stream",
          "text": [
            "100%|██████████| 100/100 [00:00<00:00, 605.76it/s]\n"
          ],
          "name": "stderr"
        },
        {
          "output_type": "stream",
          "text": [
            "\n",
            "\n",
            "training time elapsed: 0.1697995662689209\n",
            "accuracy: 0.9298245614035088\n",
            "scoring time elapsed: 0.012651205062866211\n",
            "effective number of iterations 100\n"
          ],
          "name": "stdout"
        },
        {
          "output_type": "execute_result",
          "data": {
            "text/plain": [
              "Text(0, 0.5, 'log loss')"
            ]
          },
          "metadata": {
            "tags": []
          },
          "execution_count": 144
        },
        {
          "output_type": "display_data",
          "data": {
            "image/png": "[encoded data removed]",
            "text/plain": [
              "<Figure size 432x288 with 1 Axes>"
            ]
          },
          "metadata": {
            "tags": [],
            "needs_background": "light"
          }
        }
      ]
    },
    {
      "cell_type": "markdown",
      "metadata": {
        "id": "Ac2hIdC70Od8"
      },
      "source": [
        "## ridge with early stopping (tolerance=1e-1)"
      ]
    },
    {
      "cell_type": "code",
      "metadata": {
        "colab": {
          "base_uri": "https://localhost:8080/",
          "height": 455
        },
        "id": "QYUHi4RzV0bG",
        "outputId": "65347770-2de9-414a-876b-45e2ad9714fd"
      },
      "source": [
        "obj = ms.LSBoostClassifier(tolerance=1e-1) #learning rate is 0.1\n",
        "\n",
        "start = time()\n",
        "obj.fit(X_train, y_train)\n",
        "print(f\"\\n\")\n",
        "print(f\"training time elapsed: {time()-start}\")\n",
        "\n",
        "start = time()\n",
        "print(f\"accuracy: {obj.score(X_test, y_test)}\")\n",
        "print(f\"scoring time elapsed: {time()-start}\")\n",
        "\n",
        "print(f\"effective number of iterations {len(obj.obj['loss'])}\")\n",
        "\n",
        "fig = plt.figure()\n",
        "plt.plot(np.log(obj.obj['loss']))\n",
        "fig.suptitle('L2 norm of pseudoresponse \\n tolerance=0.1, learning_rate=0.1', fontsize=20)\n",
        "plt.xlabel('number of boosting iterations', fontsize=18)\n",
        "plt.ylabel('log loss', fontsize=16)"
      ],
      "execution_count": 145,
      "outputs": [
        {
          "output_type": "stream",
          "text": [
            " 16%|█▌        | 16/100 [00:00<00:00, 501.34it/s]"
          ],
          "name": "stderr"
        },
        {
          "output_type": "stream",
          "text": [
            "\n",
            "\n",
            "training time elapsed: 0.035997867584228516\n",
            "accuracy: 0.9736842105263158\n",
            "scoring time elapsed: 0.00895380973815918\n",
            "effective number of iterations 17\n"
          ],
          "name": "stdout"
        },
        {
          "output_type": "stream",
          "text": [
            "\n"
          ],
          "name": "stderr"
        },
        {
          "output_type": "execute_result",
          "data": {
            "text/plain": [
              "Text(0, 0.5, 'log loss')"
            ]
          },
          "metadata": {
            "tags": []
          },
          "execution_count": 145
        },
        {
          "output_type": "display_data",
          "data": {
            "image/png": "[encoded data removed]",
            "text/plain": [
              "<Figure size 432x288 with 1 Axes>"
            ]
          },
          "metadata": {
            "tags": [],
            "needs_background": "light"
          }
        }
      ]
    },
    {
      "cell_type": "code",
      "metadata": {
        "colab": {
          "base_uri": "https://localhost:8080/",
          "height": 455
        },
        "id": "4XtuSF-QN19h",
        "outputId": "f8819da1-4d26-4edf-902f-706171560673"
      },
      "source": [
        "obj = ms.LSBoostClassifier(tolerance=1e-1, learning_rate=0.7)\n",
        "\n",
        "start = time()\n",
        "obj.fit(X_train, y_train)\n",
        "print(f\"\\n\")\n",
        "print(f\"training time elapsed: {time()-start}\")\n",
        "\n",
        "start = time()\n",
        "print(f\"accuracy: {obj.score(X_test, y_test)}\")\n",
        "print(f\"scoring time elapsed: {time()-start}\")\n",
        "\n",
        "print(f\"effective number of iterations {len(obj.obj['loss'])}\")\n",
        "\n",
        "fig = plt.figure()\n",
        "plt.plot(np.log(obj.obj['loss']))\n",
        "fig.suptitle('L2 norm of pseudoresponse \\n tolerance=0.1, learning_rate=0.7', fontsize=20)\n",
        "plt.xlabel('number of boosting iterations', fontsize=18)\n",
        "plt.ylabel('log loss', fontsize=16)"
      ],
      "execution_count": 146,
      "outputs": [
        {
          "output_type": "stream",
          "text": [
            "  3%|▎         | 3/100 [00:00<00:00, 239.37it/s]\n"
          ],
          "name": "stderr"
        },
        {
          "output_type": "stream",
          "text": [
            "\n",
            "\n",
            "training time elapsed: 0.020142793655395508\n",
            "accuracy: 0.9736842105263158\n",
            "scoring time elapsed: 0.0017046928405761719\n",
            "effective number of iterations 4\n"
          ],
          "name": "stdout"
        },
        {
          "output_type": "execute_result",
          "data": {
            "text/plain": [
              "Text(0, 0.5, 'log loss')"
            ]
          },
          "metadata": {
            "tags": []
          },
          "execution_count": 146
        },
        {
          "output_type": "display_data",
          "data": {
            "image/png": "[encoded data removed]",
            "text/plain": [
              "<Figure size 432x288 with 1 Axes>"
            ]
          },
          "metadata": {
            "tags": [],
            "needs_background": "light"
          }
        }
      ]
    },
    {
      "cell_type": "code",
      "metadata": {
        "id": "o-BNqZKVjd2J"
      },
      "source": [
        ""
      ],
      "execution_count": null,
      "outputs": []
    },
    {
      "cell_type": "markdown",
      "metadata": {
        "id": "i65wuLt8Qesq"
      },
      "source": [
        "# 2 - Sensitivity to lambda, learning rate, dropout and early stopping"
      ]
    },
    {
      "cell_type": "code",
      "metadata": {
        "id": "7ibJL-X6elcp"
      },
      "source": [
        "import pandas as pd"
      ],
      "execution_count": 51,
      "outputs": []
    },
    {
      "cell_type": "markdown",
      "metadata": {
        "id": "Sm3BQPNARVL0"
      },
      "source": [
        "## 2 - 1 to lambda"
      ]
    },
    {
      "cell_type": "code",
      "metadata": {
        "id": "9ZJGmDfgQitv"
      },
      "source": [
        "B = 50 # number of subsampling ops\n",
        "\n",
        "lambdas = np.sort([1e-3, 1e-2, 1e-1, 0, 10, 100, 1000])\n",
        "n_lambdas = len(lambdas)\n",
        "training_errs_1 = np.zeros((B, n_lambdas))\n",
        "testing_errs_1 = np.zeros((B, n_lambdas))"
      ],
      "execution_count": 52,
      "outputs": []
    },
    {
      "cell_type": "code",
      "metadata": {
        "id": "FHK8osRFSgQi"
      },
      "source": [
        "for idx in tqdm(range(B)): \n",
        "  np.random.seed(idx*100+15029)\n",
        "  X_train, X_test, y_train, y_test = train_test_split(X, y, test_size=0.2)\n",
        "  for idy, elt in enumerate(lambdas):  \n",
        "    obj = ms.LSBoostClassifier(reg_lambda = elt)\n",
        "    obj.fit(X_train, y_train)\n",
        "    training_errs_1[idx, idy] = obj.score(X_train, y_train)\n",
        "    testing_errs_1[idx, idy] = obj.score(X_test, y_test)    "
      ],
      "execution_count": null,
      "outputs": []
    },
    {
      "cell_type": "code",
      "metadata": {
        "id": "F6HQpGboXmSV"
      },
      "source": [
        "colnames = [('lam' + str(elt))  for elt in lambdas]\n",
        "df_training_errs_1 =  pd.DataFrame(training_errs_1, columns=colnames)\n",
        "df_testing_errs_1 = pd.DataFrame(testing_errs_1, columns=colnames)"
      ],
      "execution_count": 54,
      "outputs": []
    },
    {
      "cell_type": "code",
      "metadata": {
        "id": "oPXHO-lxe4J5"
      },
      "source": [
        "df_training_errs_1.describe()"
      ],
      "execution_count": null,
      "outputs": []
    },
    {
      "cell_type": "code",
      "metadata": {
        "colab": {
          "base_uri": "https://localhost:8080/",
          "height": 282
        },
        "id": "ZJIt2FtOjMYt",
        "outputId": "001f6e45-824c-4268-b378-079ed9bc7f80"
      },
      "source": [
        "df_training_errs_1.boxplot(column=colnames)"
      ],
      "execution_count": 56,
      "outputs": [
        {
          "output_type": "execute_result",
          "data": {
            "text/plain": [
              "<matplotlib.axes._subplots.AxesSubplot at 0x7f9b8bd23a58>"
            ]
          },
          "metadata": {
            "tags": []
          },
          "execution_count": 56
        },
        {
          "output_type": "display_data",
          "data": {
            "image/png": "[encoded data removed]",
            "text/plain": [
              "<Figure size 432x288 with 1 Axes>"
            ]
          },
          "metadata": {
            "tags": [],
            "needs_background": "light"
          }
        }
      ]
    },
    {
      "cell_type": "code",
      "metadata": {
        "colab": {
          "base_uri": "https://localhost:8080/",
          "height": 300
        },
        "id": "wHG03Anygum9",
        "outputId": "a7ebda8f-6e7a-4aca-a477-1416762bdfe0"
      },
      "source": [
        "df_testing_errs_1.describe()"
      ],
      "execution_count": 57,
      "outputs": [
        {
          "output_type": "execute_result",
          "data": {
            "text/html": [
              "<div>\n",
              "<style scoped>\n",
              "    .dataframe tbody tr th:only-of-type {\n",
              "        vertical-align: middle;\n",
              "    }\n",
              "\n",
              "    .dataframe tbody tr th {\n",
              "        vertical-align: top;\n",
              "    }\n",
              "\n",
              "    .dataframe thead th {\n",
              "        text-align: right;\n",
              "    }\n",
              "</style>\n",
              "<table border=\"1\" class=\"dataframe\">\n",
              "  <thead>\n",
              "    <tr style=\"text-align: right;\">\n",
              "      <th></th>\n",
              "      <th>lam0.0</th>\n",
              "      <th>lam0.001</th>\n",
              "      <th>lam0.01</th>\n",
              "      <th>lam0.1</th>\n",
              "      <th>lam10.0</th>\n",
              "      <th>lam100.0</th>\n",
              "      <th>lam1000.0</th>\n",
              "    </tr>\n",
              "  </thead>\n",
              "  <tbody>\n",
              "    <tr>\n",
              "      <th>count</th>\n",
              "      <td>50.000000</td>\n",
              "      <td>50.000000</td>\n",
              "      <td>50.000000</td>\n",
              "      <td>50.000000</td>\n",
              "      <td>50.000000</td>\n",
              "      <td>50.000000</td>\n",
              "      <td>50.000000</td>\n",
              "    </tr>\n",
              "    <tr>\n",
              "      <th>mean</th>\n",
              "      <td>0.958772</td>\n",
              "      <td>0.958772</td>\n",
              "      <td>0.958772</td>\n",
              "      <td>0.959123</td>\n",
              "      <td>0.960175</td>\n",
              "      <td>0.961579</td>\n",
              "      <td>0.961053</td>\n",
              "    </tr>\n",
              "    <tr>\n",
              "      <th>std</th>\n",
              "      <td>0.017920</td>\n",
              "      <td>0.017920</td>\n",
              "      <td>0.017920</td>\n",
              "      <td>0.017146</td>\n",
              "      <td>0.017917</td>\n",
              "      <td>0.018830</td>\n",
              "      <td>0.020755</td>\n",
              "    </tr>\n",
              "    <tr>\n",
              "      <th>min</th>\n",
              "      <td>0.903509</td>\n",
              "      <td>0.903509</td>\n",
              "      <td>0.903509</td>\n",
              "      <td>0.912281</td>\n",
              "      <td>0.912281</td>\n",
              "      <td>0.912281</td>\n",
              "      <td>0.894737</td>\n",
              "    </tr>\n",
              "    <tr>\n",
              "      <th>25%</th>\n",
              "      <td>0.947368</td>\n",
              "      <td>0.947368</td>\n",
              "      <td>0.947368</td>\n",
              "      <td>0.949561</td>\n",
              "      <td>0.947368</td>\n",
              "      <td>0.956140</td>\n",
              "      <td>0.949561</td>\n",
              "    </tr>\n",
              "    <tr>\n",
              "      <th>50%</th>\n",
              "      <td>0.956140</td>\n",
              "      <td>0.956140</td>\n",
              "      <td>0.956140</td>\n",
              "      <td>0.956140</td>\n",
              "      <td>0.956140</td>\n",
              "      <td>0.960526</td>\n",
              "      <td>0.964912</td>\n",
              "    </tr>\n",
              "    <tr>\n",
              "      <th>75%</th>\n",
              "      <td>0.973684</td>\n",
              "      <td>0.973684</td>\n",
              "      <td>0.973684</td>\n",
              "      <td>0.973684</td>\n",
              "      <td>0.973684</td>\n",
              "      <td>0.973684</td>\n",
              "      <td>0.973684</td>\n",
              "    </tr>\n",
              "    <tr>\n",
              "      <th>max</th>\n",
              "      <td>0.991228</td>\n",
              "      <td>0.991228</td>\n",
              "      <td>0.991228</td>\n",
              "      <td>0.991228</td>\n",
              "      <td>1.000000</td>\n",
              "      <td>1.000000</td>\n",
              "      <td>1.000000</td>\n",
              "    </tr>\n",
              "  </tbody>\n",
              "</table>\n",
              "</div>"
            ],
            "text/plain": [
              "          lam0.0   lam0.001    lam0.01  ...    lam10.0   lam100.0  lam1000.0\n",
              "count  50.000000  50.000000  50.000000  ...  50.000000  50.000000  50.000000\n",
              "mean    0.958772   0.958772   0.958772  ...   0.960175   0.961579   0.961053\n",
              "std     0.017920   0.017920   0.017920  ...   0.017917   0.018830   0.020755\n",
              "min     0.903509   0.903509   0.903509  ...   0.912281   0.912281   0.894737\n",
              "25%     0.947368   0.947368   0.947368  ...   0.947368   0.956140   0.949561\n",
              "50%     0.956140   0.956140   0.956140  ...   0.956140   0.960526   0.964912\n",
              "75%     0.973684   0.973684   0.973684  ...   0.973684   0.973684   0.973684\n",
              "max     0.991228   0.991228   0.991228  ...   1.000000   1.000000   1.000000\n",
              "\n",
              "[8 rows x 7 columns]"
            ]
          },
          "metadata": {
            "tags": []
          },
          "execution_count": 57
        }
      ]
    },
    {
      "cell_type": "code",
      "metadata": {
        "colab": {
          "base_uri": "https://localhost:8080/",
          "height": 282
        },
        "id": "9HQSycASmWxF",
        "outputId": "f3b5df7b-b62b-4de1-a56f-07dac7d50e3c"
      },
      "source": [
        "df_testing_errs_1.boxplot(column=colnames)"
      ],
      "execution_count": 58,
      "outputs": [
        {
          "output_type": "execute_result",
          "data": {
            "text/plain": [
              "<matplotlib.axes._subplots.AxesSubplot at 0x7f9b8b9f4e48>"
            ]
          },
          "metadata": {
            "tags": []
          },
          "execution_count": 58
        },
        {
          "output_type": "display_data",
          "data": {
            "image/png": "[encoded data removed]",
            "text/plain": [
              "<Figure size 432x288 with 1 Axes>"
            ]
          },
          "metadata": {
            "tags": [],
            "needs_background": "light"
          }
        }
      ]
    },
    {
      "cell_type": "markdown",
      "metadata": {
        "id": "ZF5cSvMsRb_s"
      },
      "source": [
        "## 2 - 2 to nu (learning rate)"
      ]
    },
    {
      "cell_type": "code",
      "metadata": {
        "id": "7ihIJvLDRynj"
      },
      "source": [
        "nus = np.sort([1e-3, 2.5e-3, 5e-3, 5e-2, 2.5e-2, 1e-2, 1e-1])"
      ],
      "execution_count": 59,
      "outputs": []
    },
    {
      "cell_type": "code",
      "metadata": {
        "id": "OaH_RbDBnbQF"
      },
      "source": [
        "colnames = [('nu' + str(elt))  for elt in nus]"
      ],
      "execution_count": 60,
      "outputs": []
    },
    {
      "cell_type": "code",
      "metadata": {
        "id": "g7lXg9ZMhZ4c"
      },
      "source": [
        "n_nus = len(nus)\n",
        "training_errs_2 = np.zeros((B, n_nus))\n",
        "testing_errs_2 = np.zeros((B, n_nus))"
      ],
      "execution_count": 61,
      "outputs": []
    },
    {
      "cell_type": "code",
      "metadata": {
        "id": "Ql3PTfe3h9hn"
      },
      "source": [
        "for idx in tqdm(range(B)): \n",
        "  np.random.seed(idx*100+15029)\n",
        "  X_train, X_test, y_train, y_test = train_test_split(X, y, test_size=0.2)\n",
        "  for idy, elt in enumerate(nus):  \n",
        "    obj = ms.LSBoostClassifier(learning_rate=elt)\n",
        "    obj.fit(X_train, y_train)\n",
        "    training_errs_2[idx, idy] = obj.score(X_train, y_train)\n",
        "    testing_errs_2[idx, idy] = obj.score(X_test, y_test)    "
      ],
      "execution_count": null,
      "outputs": []
    },
    {
      "cell_type": "markdown",
      "metadata": {
        "id": "5zqyMph4pXpZ"
      },
      "source": [
        "### training and testing errors = f(learning rate)"
      ]
    },
    {
      "cell_type": "code",
      "metadata": {
        "id": "tI71rvCchnHL"
      },
      "source": [
        "df_training_errs_2 =  pd.DataFrame(training_errs_2, columns=colnames)\n",
        "df_testing_errs_2 = pd.DataFrame(testing_errs_2, columns=colnames)"
      ],
      "execution_count": 63,
      "outputs": []
    },
    {
      "cell_type": "code",
      "metadata": {
        "id": "tcioFzDIorrG"
      },
      "source": [
        "df_training_errs_2.describe()"
      ],
      "execution_count": null,
      "outputs": []
    },
    {
      "cell_type": "code",
      "metadata": {
        "colab": {
          "base_uri": "https://localhost:8080/",
          "height": 283
        },
        "id": "f_dUrFYYqjIF",
        "outputId": "dffaf681-392d-4e00-eb1c-59a50b7d2879"
      },
      "source": [
        "df_training_errs_2.boxplot(column=colnames)"
      ],
      "execution_count": 65,
      "outputs": [
        {
          "output_type": "execute_result",
          "data": {
            "text/plain": [
              "<matplotlib.axes._subplots.AxesSubplot at 0x7f9b8b959860>"
            ]
          },
          "metadata": {
            "tags": []
          },
          "execution_count": 65
        },
        {
          "output_type": "display_data",
          "data": {
            "image/png": "[encoded data removed]",
            "text/plain": [
              "<Figure size 432x288 with 1 Axes>"
            ]
          },
          "metadata": {
            "tags": [],
            "needs_background": "light"
          }
        }
      ]
    },
    {
      "cell_type": "code",
      "metadata": {
        "id": "47v18qF-o0yZ"
      },
      "source": [
        "df_testing_errs_2.describe()"
      ],
      "execution_count": null,
      "outputs": []
    },
    {
      "cell_type": "code",
      "metadata": {
        "colab": {
          "base_uri": "https://localhost:8080/",
          "height": 282
        },
        "id": "uWsGreLIqknD",
        "outputId": "ad280f7b-8112-40a6-a53c-4f23143dfb6d"
      },
      "source": [
        "df_testing_errs_2.boxplot(column=colnames)"
      ],
      "execution_count": 67,
      "outputs": [
        {
          "output_type": "execute_result",
          "data": {
            "text/plain": [
              "<matplotlib.axes._subplots.AxesSubplot at 0x7f9b8b848eb8>"
            ]
          },
          "metadata": {
            "tags": []
          },
          "execution_count": 67
        },
        {
          "output_type": "display_data",
          "data": {
            "image/png": "[encoded data removed]",
            "text/plain": [
              "<Figure size 432x288 with 1 Axes>"
            ]
          },
          "metadata": {
            "tags": [],
            "needs_background": "light"
          }
        }
      ]
    },
    {
      "cell_type": "markdown",
      "metadata": {
        "id": "cTuRB0DTRgHC"
      },
      "source": [
        "## 2 - 3 to dropout"
      ]
    },
    {
      "cell_type": "code",
      "metadata": {
        "id": "xVeKmE6FR34R"
      },
      "source": [
        "dropouts = [0.2, 0.3, 0.4, 0.5, 0.6, 0.7, 0.8, 0.9]"
      ],
      "execution_count": 68,
      "outputs": []
    },
    {
      "cell_type": "code",
      "metadata": {
        "id": "evoSPrm8ur0t"
      },
      "source": [
        "colnames = [('dropout' + str(elt))  for elt in dropouts]"
      ],
      "execution_count": 69,
      "outputs": []
    },
    {
      "cell_type": "code",
      "metadata": {
        "id": "JRrt5PPBu0pi"
      },
      "source": [
        "n_dropouts = len(dropouts)\n",
        "training_errs_3 = np.zeros((B, n_dropouts))\n",
        "testing_errs_3 = np.zeros((B, n_dropouts))"
      ],
      "execution_count": 70,
      "outputs": []
    },
    {
      "cell_type": "code",
      "metadata": {
        "id": "mFBJQs5OvAyr"
      },
      "source": [
        "for idx in tqdm(range(B)): \n",
        "  np.random.seed(idx*100+15029)\n",
        "  X_train, X_test, y_train, y_test = train_test_split(X, y, test_size=0.2)\n",
        "  for idy, elt in enumerate(dropouts):  \n",
        "    obj = ms.LSBoostClassifier(dropout=elt)\n",
        "    obj.fit(X_train, y_train)\n",
        "    training_errs_3[idx, idy] = obj.score(X_train, y_train)\n",
        "    testing_errs_3[idx, idy] = obj.score(X_test, y_test)    "
      ],
      "execution_count": null,
      "outputs": []
    },
    {
      "cell_type": "markdown",
      "metadata": {
        "id": "hWTpzlypoqMb"
      },
      "source": [
        "### training and testing errors (=f(dropout))"
      ]
    },
    {
      "cell_type": "code",
      "metadata": {
        "id": "uEebWtItvjBG"
      },
      "source": [
        "df_training_errs_3 =  pd.DataFrame(training_errs_3, columns=colnames)\n",
        "df_testing_errs_3 = pd.DataFrame(testing_errs_3, columns=colnames)"
      ],
      "execution_count": 72,
      "outputs": []
    },
    {
      "cell_type": "code",
      "metadata": {
        "id": "FNwcINCavxtX"
      },
      "source": [
        "df_training_errs_3.describe()"
      ],
      "execution_count": null,
      "outputs": []
    },
    {
      "cell_type": "code",
      "metadata": {
        "colab": {
          "base_uri": "https://localhost:8080/",
          "height": 282
        },
        "id": "gFjfq2A3wDDM",
        "outputId": "f44a6634-a832-4834-c063-1f1449da75e6"
      },
      "source": [
        "df_training_errs_3.boxplot(column=colnames)"
      ],
      "execution_count": 74,
      "outputs": [
        {
          "output_type": "execute_result",
          "data": {
            "text/plain": [
              "<matplotlib.axes._subplots.AxesSubplot at 0x7f9b8c388b00>"
            ]
          },
          "metadata": {
            "tags": []
          },
          "execution_count": 74
        },
        {
          "output_type": "display_data",
          "data": {
            "image/png": "[encoded data removed]",
            "text/plain": [
              "<Figure size 432x288 with 1 Axes>"
            ]
          },
          "metadata": {
            "tags": [],
            "needs_background": "light"
          }
        }
      ]
    },
    {
      "cell_type": "code",
      "metadata": {
        "colab": {
          "base_uri": "https://localhost:8080/",
          "height": 300
        },
        "id": "_KN8uorhvzNG",
        "outputId": "124ab79e-7af2-4956-d189-d18e4666da9b"
      },
      "source": [
        "df_testing_errs_3.describe()"
      ],
      "execution_count": 75,
      "outputs": [
        {
          "output_type": "execute_result",
          "data": {
            "text/html": [
              "<div>\n",
              "<style scoped>\n",
              "    .dataframe tbody tr th:only-of-type {\n",
              "        vertical-align: middle;\n",
              "    }\n",
              "\n",
              "    .dataframe tbody tr th {\n",
              "        vertical-align: top;\n",
              "    }\n",
              "\n",
              "    .dataframe thead th {\n",
              "        text-align: right;\n",
              "    }\n",
              "</style>\n",
              "<table border=\"1\" class=\"dataframe\">\n",
              "  <thead>\n",
              "    <tr style=\"text-align: right;\">\n",
              "      <th></th>\n",
              "      <th>dropout0.2</th>\n",
              "      <th>dropout0.3</th>\n",
              "      <th>dropout0.4</th>\n",
              "      <th>dropout0.5</th>\n",
              "      <th>dropout0.6</th>\n",
              "      <th>dropout0.7</th>\n",
              "      <th>dropout0.8</th>\n",
              "      <th>dropout0.9</th>\n",
              "    </tr>\n",
              "  </thead>\n",
              "  <tbody>\n",
              "    <tr>\n",
              "      <th>count</th>\n",
              "      <td>50.000000</td>\n",
              "      <td>50.000000</td>\n",
              "      <td>50.000000</td>\n",
              "      <td>50.000000</td>\n",
              "      <td>50.000000</td>\n",
              "      <td>50.000000</td>\n",
              "      <td>50.000000</td>\n",
              "      <td>50.000000</td>\n",
              "    </tr>\n",
              "    <tr>\n",
              "      <th>mean</th>\n",
              "      <td>0.957018</td>\n",
              "      <td>0.955614</td>\n",
              "      <td>0.955614</td>\n",
              "      <td>0.955614</td>\n",
              "      <td>0.955439</td>\n",
              "      <td>0.955439</td>\n",
              "      <td>0.954561</td>\n",
              "      <td>0.955614</td>\n",
              "    </tr>\n",
              "    <tr>\n",
              "      <th>std</th>\n",
              "      <td>0.018181</td>\n",
              "      <td>0.018195</td>\n",
              "      <td>0.017310</td>\n",
              "      <td>0.018022</td>\n",
              "      <td>0.018232</td>\n",
              "      <td>0.017619</td>\n",
              "      <td>0.018133</td>\n",
              "      <td>0.017310</td>\n",
              "    </tr>\n",
              "    <tr>\n",
              "      <th>min</th>\n",
              "      <td>0.921053</td>\n",
              "      <td>0.912281</td>\n",
              "      <td>0.921053</td>\n",
              "      <td>0.921053</td>\n",
              "      <td>0.921053</td>\n",
              "      <td>0.921053</td>\n",
              "      <td>0.921053</td>\n",
              "      <td>0.921053</td>\n",
              "    </tr>\n",
              "    <tr>\n",
              "      <th>25%</th>\n",
              "      <td>0.947368</td>\n",
              "      <td>0.947368</td>\n",
              "      <td>0.947368</td>\n",
              "      <td>0.940789</td>\n",
              "      <td>0.940789</td>\n",
              "      <td>0.940789</td>\n",
              "      <td>0.940789</td>\n",
              "      <td>0.947368</td>\n",
              "    </tr>\n",
              "    <tr>\n",
              "      <th>50%</th>\n",
              "      <td>0.956140</td>\n",
              "      <td>0.956140</td>\n",
              "      <td>0.956140</td>\n",
              "      <td>0.956140</td>\n",
              "      <td>0.956140</td>\n",
              "      <td>0.956140</td>\n",
              "      <td>0.956140</td>\n",
              "      <td>0.956140</td>\n",
              "    </tr>\n",
              "    <tr>\n",
              "      <th>75%</th>\n",
              "      <td>0.973684</td>\n",
              "      <td>0.971491</td>\n",
              "      <td>0.971491</td>\n",
              "      <td>0.971491</td>\n",
              "      <td>0.971491</td>\n",
              "      <td>0.964912</td>\n",
              "      <td>0.964912</td>\n",
              "      <td>0.971491</td>\n",
              "    </tr>\n",
              "    <tr>\n",
              "      <th>max</th>\n",
              "      <td>0.991228</td>\n",
              "      <td>0.991228</td>\n",
              "      <td>0.991228</td>\n",
              "      <td>0.991228</td>\n",
              "      <td>0.991228</td>\n",
              "      <td>0.991228</td>\n",
              "      <td>0.991228</td>\n",
              "      <td>0.982456</td>\n",
              "    </tr>\n",
              "  </tbody>\n",
              "</table>\n",
              "</div>"
            ],
            "text/plain": [
              "       dropout0.2  dropout0.3  dropout0.4  ...  dropout0.7  dropout0.8  dropout0.9\n",
              "count   50.000000   50.000000   50.000000  ...   50.000000   50.000000   50.000000\n",
              "mean     0.957018    0.955614    0.955614  ...    0.955439    0.954561    0.955614\n",
              "std      0.018181    0.018195    0.017310  ...    0.017619    0.018133    0.017310\n",
              "min      0.921053    0.912281    0.921053  ...    0.921053    0.921053    0.921053\n",
              "25%      0.947368    0.947368    0.947368  ...    0.940789    0.940789    0.947368\n",
              "50%      0.956140    0.956140    0.956140  ...    0.956140    0.956140    0.956140\n",
              "75%      0.973684    0.971491    0.971491  ...    0.964912    0.964912    0.971491\n",
              "max      0.991228    0.991228    0.991228  ...    0.991228    0.991228    0.982456\n",
              "\n",
              "[8 rows x 8 columns]"
            ]
          },
          "metadata": {
            "tags": []
          },
          "execution_count": 75
        }
      ]
    },
    {
      "cell_type": "code",
      "metadata": {
        "colab": {
          "base_uri": "https://localhost:8080/",
          "height": 282
        },
        "id": "6POYHpruwD4j",
        "outputId": "c8fd1264-85c6-472a-bdb9-6c5eebeb7b17"
      },
      "source": [
        "df_testing_errs_3.boxplot(column=colnames)"
      ],
      "execution_count": 76,
      "outputs": [
        {
          "output_type": "execute_result",
          "data": {
            "text/plain": [
              "<matplotlib.axes._subplots.AxesSubplot at 0x7f9b8b62fef0>"
            ]
          },
          "metadata": {
            "tags": []
          },
          "execution_count": 76
        },
        {
          "output_type": "display_data",
          "data": {
            "image/png": "[encoded data removed]",
            "text/plain": [
              "<Figure size 432x288 with 1 Axes>"
            ]
          },
          "metadata": {
            "tags": [],
            "needs_background": "light"
          }
        }
      ]
    },
    {
      "cell_type": "markdown",
      "metadata": {
        "id": "F9gY-RSrxFcn"
      },
      "source": [
        "## 2-4 to early stopping (`tolerance`)"
      ]
    },
    {
      "cell_type": "code",
      "metadata": {
        "id": "pWzlyggqxE8-"
      },
      "source": [
        "tolerances = [1e-6, 1e-5, 1e-4, 1e-3, 1e-2, 1e-1]"
      ],
      "execution_count": 77,
      "outputs": []
    },
    {
      "cell_type": "code",
      "metadata": {
        "id": "2bDOyC0dyiQ3"
      },
      "source": [
        "colnames = [('tol' + str(elt))  for elt in tolerances]"
      ],
      "execution_count": 78,
      "outputs": []
    },
    {
      "cell_type": "code",
      "metadata": {
        "id": "lgnm2vz_ylAS"
      },
      "source": [
        "n_tolerances = len(tolerances)\n",
        "training_errs_4 = np.zeros((B, n_tolerances))\n",
        "testing_errs_4 = np.zeros((B, n_tolerances))\n",
        "timings_errs_4 = np.zeros((B, n_tolerances))\n",
        "estimators_errs_4 = np.zeros((B, n_tolerances))"
      ],
      "execution_count": 79,
      "outputs": []
    },
    {
      "cell_type": "code",
      "metadata": {
        "id": "Fjjbzib2yyxU"
      },
      "source": [
        "for idx in tqdm(range(B)): \n",
        "  np.random.seed(idx*100+15029)\n",
        "  X_train, X_test, y_train, y_test = train_test_split(X, y, test_size=0.2)\n",
        "  for idy, elt in enumerate(tolerances):  \n",
        "    obj = ms.LSBoostClassifier(tolerance=elt)\n",
        "    start = time()\n",
        "    obj.fit(X_train, y_train)\n",
        "    training_errs_4[idx, idy] = obj.score(X_train, y_train)\n",
        "    testing_errs_4[idx, idy] = obj.score(X_test, y_test) \n",
        "    timings_errs_4[idx, idy] = time() - start\n",
        "    estimators_errs_4[idx, idy] = obj.n_estimators   "
      ],
      "execution_count": null,
      "outputs": []
    },
    {
      "cell_type": "markdown",
      "metadata": {
        "id": "2MWeE4ZEoUUo"
      },
      "source": [
        "### 2-4-1 training and testing errors"
      ]
    },
    {
      "cell_type": "code",
      "metadata": {
        "id": "p6trum3Ay_6e"
      },
      "source": [
        "df_training_errs_4 =  pd.DataFrame(training_errs_4, columns=colnames)\n",
        "df_testing_errs_4 = pd.DataFrame(testing_errs_4, columns=colnames)"
      ],
      "execution_count": 81,
      "outputs": []
    },
    {
      "cell_type": "code",
      "metadata": {
        "id": "lzgipw8_zK4A"
      },
      "source": [
        "df_training_errs_4.describe()"
      ],
      "execution_count": null,
      "outputs": []
    },
    {
      "cell_type": "code",
      "metadata": {
        "colab": {
          "base_uri": "https://localhost:8080/",
          "height": 282
        },
        "id": "vZDzczV3zLth",
        "outputId": "f1b65ffc-3d9b-404f-dc9c-265a3744ba06"
      },
      "source": [
        "df_training_errs_4.boxplot(column=colnames)"
      ],
      "execution_count": 83,
      "outputs": [
        {
          "output_type": "execute_result",
          "data": {
            "text/plain": [
              "<matplotlib.axes._subplots.AxesSubplot at 0x7f9b8b541b38>"
            ]
          },
          "metadata": {
            "tags": []
          },
          "execution_count": 83
        },
        {
          "output_type": "display_data",
          "data": {
            "image/png": "[encoded data removed]",
            "text/plain": [
              "<Figure size 432x288 with 1 Axes>"
            ]
          },
          "metadata": {
            "tags": [],
            "needs_background": "light"
          }
        }
      ]
    },
    {
      "cell_type": "code",
      "metadata": {
        "colab": {
          "base_uri": "https://localhost:8080/",
          "height": 300
        },
        "id": "kBrPuZ_lzVXT",
        "outputId": "1755ab8c-9f0d-4430-d6e6-de9aab412f2f"
      },
      "source": [
        "df_testing_errs_4.describe()"
      ],
      "execution_count": 84,
      "outputs": [
        {
          "output_type": "execute_result",
          "data": {
            "text/html": [
              "<div>\n",
              "<style scoped>\n",
              "    .dataframe tbody tr th:only-of-type {\n",
              "        vertical-align: middle;\n",
              "    }\n",
              "\n",
              "    .dataframe tbody tr th {\n",
              "        vertical-align: top;\n",
              "    }\n",
              "\n",
              "    .dataframe thead th {\n",
              "        text-align: right;\n",
              "    }\n",
              "</style>\n",
              "<table border=\"1\" class=\"dataframe\">\n",
              "  <thead>\n",
              "    <tr style=\"text-align: right;\">\n",
              "      <th></th>\n",
              "      <th>tol1e-06</th>\n",
              "      <th>tol1e-05</th>\n",
              "      <th>tol0.0001</th>\n",
              "      <th>tol0.001</th>\n",
              "      <th>tol0.01</th>\n",
              "      <th>tol0.1</th>\n",
              "    </tr>\n",
              "  </thead>\n",
              "  <tbody>\n",
              "    <tr>\n",
              "      <th>count</th>\n",
              "      <td>50.000000</td>\n",
              "      <td>50.000000</td>\n",
              "      <td>50.000000</td>\n",
              "      <td>50.000000</td>\n",
              "      <td>50.000000</td>\n",
              "      <td>50.000000</td>\n",
              "    </tr>\n",
              "    <tr>\n",
              "      <th>mean</th>\n",
              "      <td>0.958246</td>\n",
              "      <td>0.958246</td>\n",
              "      <td>0.959123</td>\n",
              "      <td>0.960000</td>\n",
              "      <td>0.958772</td>\n",
              "      <td>0.954737</td>\n",
              "    </tr>\n",
              "    <tr>\n",
              "      <th>std</th>\n",
              "      <td>0.018035</td>\n",
              "      <td>0.018035</td>\n",
              "      <td>0.017146</td>\n",
              "      <td>0.016064</td>\n",
              "      <td>0.016742</td>\n",
              "      <td>0.019763</td>\n",
              "    </tr>\n",
              "    <tr>\n",
              "      <th>min</th>\n",
              "      <td>0.912281</td>\n",
              "      <td>0.912281</td>\n",
              "      <td>0.912281</td>\n",
              "      <td>0.921053</td>\n",
              "      <td>0.912281</td>\n",
              "      <td>0.912281</td>\n",
              "    </tr>\n",
              "    <tr>\n",
              "      <th>25%</th>\n",
              "      <td>0.947368</td>\n",
              "      <td>0.947368</td>\n",
              "      <td>0.949561</td>\n",
              "      <td>0.947368</td>\n",
              "      <td>0.947368</td>\n",
              "      <td>0.938596</td>\n",
              "    </tr>\n",
              "    <tr>\n",
              "      <th>50%</th>\n",
              "      <td>0.956140</td>\n",
              "      <td>0.956140</td>\n",
              "      <td>0.956140</td>\n",
              "      <td>0.964912</td>\n",
              "      <td>0.964912</td>\n",
              "      <td>0.956140</td>\n",
              "    </tr>\n",
              "    <tr>\n",
              "      <th>75%</th>\n",
              "      <td>0.973684</td>\n",
              "      <td>0.973684</td>\n",
              "      <td>0.973684</td>\n",
              "      <td>0.973684</td>\n",
              "      <td>0.973684</td>\n",
              "      <td>0.964912</td>\n",
              "    </tr>\n",
              "    <tr>\n",
              "      <th>max</th>\n",
              "      <td>0.991228</td>\n",
              "      <td>0.991228</td>\n",
              "      <td>0.991228</td>\n",
              "      <td>0.982456</td>\n",
              "      <td>0.991228</td>\n",
              "      <td>1.000000</td>\n",
              "    </tr>\n",
              "  </tbody>\n",
              "</table>\n",
              "</div>"
            ],
            "text/plain": [
              "        tol1e-06   tol1e-05  tol0.0001   tol0.001    tol0.01     tol0.1\n",
              "count  50.000000  50.000000  50.000000  50.000000  50.000000  50.000000\n",
              "mean    0.958246   0.958246   0.959123   0.960000   0.958772   0.954737\n",
              "std     0.018035   0.018035   0.017146   0.016064   0.016742   0.019763\n",
              "min     0.912281   0.912281   0.912281   0.921053   0.912281   0.912281\n",
              "25%     0.947368   0.947368   0.949561   0.947368   0.947368   0.938596\n",
              "50%     0.956140   0.956140   0.956140   0.964912   0.964912   0.956140\n",
              "75%     0.973684   0.973684   0.973684   0.973684   0.973684   0.964912\n",
              "max     0.991228   0.991228   0.991228   0.982456   0.991228   1.000000"
            ]
          },
          "metadata": {
            "tags": []
          },
          "execution_count": 84
        }
      ]
    },
    {
      "cell_type": "code",
      "metadata": {
        "colab": {
          "base_uri": "https://localhost:8080/",
          "height": 282
        },
        "id": "ysqBnZoWzT6w",
        "outputId": "eb0f1c9b-239c-4a76-c03f-9c35321dac62"
      },
      "source": [
        "df_testing_errs_4.boxplot(column=colnames)"
      ],
      "execution_count": 85,
      "outputs": [
        {
          "output_type": "execute_result",
          "data": {
            "text/plain": [
              "<matplotlib.axes._subplots.AxesSubplot at 0x7f9b8b485080>"
            ]
          },
          "metadata": {
            "tags": []
          },
          "execution_count": 85
        },
        {
          "output_type": "display_data",
          "data": {
            "image/png": "[encoded data removed]",
            "text/plain": [
              "<Figure size 432x288 with 1 Axes>"
            ]
          },
          "metadata": {
            "tags": [],
            "needs_background": "light"
          }
        }
      ]
    },
    {
      "cell_type": "code",
      "metadata": {
        "id": "praiFCgg1XOg"
      },
      "source": [
        "df_timings_errs_4 =  pd.DataFrame(timings_errs_4, columns=colnames)\n"
      ],
      "execution_count": 86,
      "outputs": []
    },
    {
      "cell_type": "code",
      "metadata": {
        "colab": {
          "base_uri": "https://localhost:8080/",
          "height": 300
        },
        "id": "N8W1y3rv1n7T",
        "outputId": "e01a615c-f056-4e21-b6ea-f075a03959ff"
      },
      "source": [
        "df_timings_errs_4.describe()"
      ],
      "execution_count": 87,
      "outputs": [
        {
          "output_type": "execute_result",
          "data": {
            "text/html": [
              "<div>\n",
              "<style scoped>\n",
              "    .dataframe tbody tr th:only-of-type {\n",
              "        vertical-align: middle;\n",
              "    }\n",
              "\n",
              "    .dataframe tbody tr th {\n",
              "        vertical-align: top;\n",
              "    }\n",
              "\n",
              "    .dataframe thead th {\n",
              "        text-align: right;\n",
              "    }\n",
              "</style>\n",
              "<table border=\"1\" class=\"dataframe\">\n",
              "  <thead>\n",
              "    <tr style=\"text-align: right;\">\n",
              "      <th></th>\n",
              "      <th>tol1e-06</th>\n",
              "      <th>tol1e-05</th>\n",
              "      <th>tol0.0001</th>\n",
              "      <th>tol0.001</th>\n",
              "      <th>tol0.01</th>\n",
              "      <th>tol0.1</th>\n",
              "    </tr>\n",
              "  </thead>\n",
              "  <tbody>\n",
              "    <tr>\n",
              "      <th>count</th>\n",
              "      <td>50.000000</td>\n",
              "      <td>50.000000</td>\n",
              "      <td>50.000000</td>\n",
              "      <td>50.000000</td>\n",
              "      <td>50.000000</td>\n",
              "      <td>50.000000</td>\n",
              "    </tr>\n",
              "    <tr>\n",
              "      <th>mean</th>\n",
              "      <td>0.243704</td>\n",
              "      <td>0.247386</td>\n",
              "      <td>0.236359</td>\n",
              "      <td>0.130760</td>\n",
              "      <td>0.085511</td>\n",
              "      <td>0.056796</td>\n",
              "    </tr>\n",
              "    <tr>\n",
              "      <th>std</th>\n",
              "      <td>0.012296</td>\n",
              "      <td>0.014145</td>\n",
              "      <td>0.032336</td>\n",
              "      <td>0.016880</td>\n",
              "      <td>0.009051</td>\n",
              "      <td>0.006331</td>\n",
              "    </tr>\n",
              "    <tr>\n",
              "      <th>min</th>\n",
              "      <td>0.220450</td>\n",
              "      <td>0.206175</td>\n",
              "      <td>0.133323</td>\n",
              "      <td>0.095817</td>\n",
              "      <td>0.071045</td>\n",
              "      <td>0.047695</td>\n",
              "    </tr>\n",
              "    <tr>\n",
              "      <th>25%</th>\n",
              "      <td>0.233942</td>\n",
              "      <td>0.239999</td>\n",
              "      <td>0.230145</td>\n",
              "      <td>0.120973</td>\n",
              "      <td>0.077876</td>\n",
              "      <td>0.052571</td>\n",
              "    </tr>\n",
              "    <tr>\n",
              "      <th>50%</th>\n",
              "      <td>0.243681</td>\n",
              "      <td>0.249516</td>\n",
              "      <td>0.240418</td>\n",
              "      <td>0.129118</td>\n",
              "      <td>0.084710</td>\n",
              "      <td>0.055660</td>\n",
              "    </tr>\n",
              "    <tr>\n",
              "      <th>75%</th>\n",
              "      <td>0.252011</td>\n",
              "      <td>0.255483</td>\n",
              "      <td>0.253721</td>\n",
              "      <td>0.137501</td>\n",
              "      <td>0.091828</td>\n",
              "      <td>0.059923</td>\n",
              "    </tr>\n",
              "    <tr>\n",
              "      <th>max</th>\n",
              "      <td>0.272326</td>\n",
              "      <td>0.285608</td>\n",
              "      <td>0.296420</td>\n",
              "      <td>0.179760</td>\n",
              "      <td>0.110666</td>\n",
              "      <td>0.078058</td>\n",
              "    </tr>\n",
              "  </tbody>\n",
              "</table>\n",
              "</div>"
            ],
            "text/plain": [
              "        tol1e-06   tol1e-05  tol0.0001   tol0.001    tol0.01     tol0.1\n",
              "count  50.000000  50.000000  50.000000  50.000000  50.000000  50.000000\n",
              "mean    0.243704   0.247386   0.236359   0.130760   0.085511   0.056796\n",
              "std     0.012296   0.014145   0.032336   0.016880   0.009051   0.006331\n",
              "min     0.220450   0.206175   0.133323   0.095817   0.071045   0.047695\n",
              "25%     0.233942   0.239999   0.230145   0.120973   0.077876   0.052571\n",
              "50%     0.243681   0.249516   0.240418   0.129118   0.084710   0.055660\n",
              "75%     0.252011   0.255483   0.253721   0.137501   0.091828   0.059923\n",
              "max     0.272326   0.285608   0.296420   0.179760   0.110666   0.078058"
            ]
          },
          "metadata": {
            "tags": []
          },
          "execution_count": 87
        }
      ]
    },
    {
      "cell_type": "code",
      "metadata": {
        "colab": {
          "base_uri": "https://localhost:8080/",
          "height": 282
        },
        "id": "0gMXhPxi1rl_",
        "outputId": "9f914597-0841-4b37-91b3-27074fea1c21"
      },
      "source": [
        "df_timings_errs_4.boxplot(column=colnames)"
      ],
      "execution_count": 88,
      "outputs": [
        {
          "output_type": "execute_result",
          "data": {
            "text/plain": [
              "<matplotlib.axes._subplots.AxesSubplot at 0x7f9b8b36c400>"
            ]
          },
          "metadata": {
            "tags": []
          },
          "execution_count": 88
        },
        {
          "output_type": "display_data",
          "data": {
            "image/png": "[encoded data removed]",
            "text/plain": [
              "<Figure size 432x288 with 1 Axes>"
            ]
          },
          "metadata": {
            "tags": [],
            "needs_background": "light"
          }
        }
      ]
    },
    {
      "cell_type": "markdown",
      "metadata": {
        "id": "KO5GyGjonyDp"
      },
      "source": [
        "##"
      ]
    },
    {
      "cell_type": "code",
      "metadata": {
        "id": "dPE2ygnM3iTU"
      },
      "source": [
        "df_estimators_errs_4 =  pd.DataFrame(estimators_errs_4, columns=colnames)\n"
      ],
      "execution_count": 89,
      "outputs": []
    },
    {
      "cell_type": "code",
      "metadata": {
        "id": "YNIYXEg23pUU",
        "colab": {
          "base_uri": "https://localhost:8080/",
          "height": 300
        },
        "outputId": "b22b5a28-096a-4839-e1a5-4b8478509600"
      },
      "source": [
        "df_estimators_errs_4.describe()"
      ],
      "execution_count": 90,
      "outputs": [
        {
          "output_type": "execute_result",
          "data": {
            "text/html": [
              "<div>\n",
              "<style scoped>\n",
              "    .dataframe tbody tr th:only-of-type {\n",
              "        vertical-align: middle;\n",
              "    }\n",
              "\n",
              "    .dataframe tbody tr th {\n",
              "        vertical-align: top;\n",
              "    }\n",
              "\n",
              "    .dataframe thead th {\n",
              "        text-align: right;\n",
              "    }\n",
              "</style>\n",
              "<table border=\"1\" class=\"dataframe\">\n",
              "  <thead>\n",
              "    <tr style=\"text-align: right;\">\n",
              "      <th></th>\n",
              "      <th>tol1e-06</th>\n",
              "      <th>tol1e-05</th>\n",
              "      <th>tol0.0001</th>\n",
              "      <th>tol0.001</th>\n",
              "      <th>tol0.01</th>\n",
              "      <th>tol0.1</th>\n",
              "    </tr>\n",
              "  </thead>\n",
              "  <tbody>\n",
              "    <tr>\n",
              "      <th>count</th>\n",
              "      <td>50.0</td>\n",
              "      <td>50.0</td>\n",
              "      <td>50.000000</td>\n",
              "      <td>50.000000</td>\n",
              "      <td>50.000000</td>\n",
              "      <td>50.000000</td>\n",
              "    </tr>\n",
              "    <tr>\n",
              "      <th>mean</th>\n",
              "      <td>100.0</td>\n",
              "      <td>100.0</td>\n",
              "      <td>94.820000</td>\n",
              "      <td>50.940000</td>\n",
              "      <td>29.540000</td>\n",
              "      <td>15.760000</td>\n",
              "    </tr>\n",
              "    <tr>\n",
              "      <th>std</th>\n",
              "      <td>0.0</td>\n",
              "      <td>0.0</td>\n",
              "      <td>12.775439</td>\n",
              "      <td>4.933889</td>\n",
              "      <td>0.503457</td>\n",
              "      <td>0.431419</td>\n",
              "    </tr>\n",
              "    <tr>\n",
              "      <th>min</th>\n",
              "      <td>100.0</td>\n",
              "      <td>100.0</td>\n",
              "      <td>58.000000</td>\n",
              "      <td>39.000000</td>\n",
              "      <td>29.000000</td>\n",
              "      <td>15.000000</td>\n",
              "    </tr>\n",
              "    <tr>\n",
              "      <th>25%</th>\n",
              "      <td>100.0</td>\n",
              "      <td>100.0</td>\n",
              "      <td>100.000000</td>\n",
              "      <td>47.000000</td>\n",
              "      <td>29.000000</td>\n",
              "      <td>16.000000</td>\n",
              "    </tr>\n",
              "    <tr>\n",
              "      <th>50%</th>\n",
              "      <td>100.0</td>\n",
              "      <td>100.0</td>\n",
              "      <td>100.000000</td>\n",
              "      <td>53.000000</td>\n",
              "      <td>30.000000</td>\n",
              "      <td>16.000000</td>\n",
              "    </tr>\n",
              "    <tr>\n",
              "      <th>75%</th>\n",
              "      <td>100.0</td>\n",
              "      <td>100.0</td>\n",
              "      <td>100.000000</td>\n",
              "      <td>53.000000</td>\n",
              "      <td>30.000000</td>\n",
              "      <td>16.000000</td>\n",
              "    </tr>\n",
              "    <tr>\n",
              "      <th>max</th>\n",
              "      <td>100.0</td>\n",
              "      <td>100.0</td>\n",
              "      <td>100.000000</td>\n",
              "      <td>58.000000</td>\n",
              "      <td>30.000000</td>\n",
              "      <td>16.000000</td>\n",
              "    </tr>\n",
              "  </tbody>\n",
              "</table>\n",
              "</div>"
            ],
            "text/plain": [
              "       tol1e-06  tol1e-05   tol0.0001   tol0.001    tol0.01     tol0.1\n",
              "count      50.0      50.0   50.000000  50.000000  50.000000  50.000000\n",
              "mean      100.0     100.0   94.820000  50.940000  29.540000  15.760000\n",
              "std         0.0       0.0   12.775439   4.933889   0.503457   0.431419\n",
              "min       100.0     100.0   58.000000  39.000000  29.000000  15.000000\n",
              "25%       100.0     100.0  100.000000  47.000000  29.000000  16.000000\n",
              "50%       100.0     100.0  100.000000  53.000000  30.000000  16.000000\n",
              "75%       100.0     100.0  100.000000  53.000000  30.000000  16.000000\n",
              "max       100.0     100.0  100.000000  58.000000  30.000000  16.000000"
            ]
          },
          "metadata": {
            "tags": []
          },
          "execution_count": 90
        }
      ]
    },
    {
      "cell_type": "code",
      "metadata": {
        "id": "T-bOFTS43wcC",
        "colab": {
          "base_uri": "https://localhost:8080/",
          "height": 282
        },
        "outputId": "c35778cb-ad2b-478c-d8ae-e357c60c8e99"
      },
      "source": [
        "df_estimators_errs_4.boxplot(column=colnames)"
      ],
      "execution_count": 91,
      "outputs": [
        {
          "output_type": "execute_result",
          "data": {
            "text/plain": [
              "<matplotlib.axes._subplots.AxesSubplot at 0x7f9b8b2b46d8>"
            ]
          },
          "metadata": {
            "tags": []
          },
          "execution_count": 91
        },
        {
          "output_type": "display_data",
          "data": {
            "image/png": "[encoded data removed]",
            "text/plain": [
              "<Figure size 432x288 with 1 Axes>"
            ]
          },
          "metadata": {
            "tags": [],
            "needs_background": "light"
          }
        }
      ]
    }
  ]
}